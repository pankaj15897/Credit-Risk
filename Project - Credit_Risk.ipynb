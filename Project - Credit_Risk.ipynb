{
 "cells": [
  {
   "cell_type": "markdown",
   "metadata": {},
   "source": [
    "# Credit _Risk Prediction"
   ]
  },
  {
   "cell_type": "markdown",
   "metadata": {},
   "source": [
    "## Loading Dataset and Required Libraries"
   ]
  },
  {
   "cell_type": "code",
   "execution_count": 51,
   "metadata": {},
   "outputs": [],
   "source": [
    "# at the top of the file, before other imports\n",
    "import warnings\n",
    "\n",
    "warnings.filterwarnings('ignore')\n",
    "\n",
    "# no warnings will be printed from now on"
   ]
  },
  {
   "cell_type": "code",
   "execution_count": 52,
   "metadata": {},
   "outputs": [],
   "source": [
    "#loading required libraries\n",
    "import numpy as np\n",
    "import pandas as pd\n",
    "import matplotlib.pyplot as plt\n",
    "import seaborn as sns\n",
    "import statsmodels.api as sm\n",
    "import pylab\n",
    "import statistics as st\n",
    "from scipy import stats\n",
    "from sklearn import metrics\n",
    "from sklearn.model_selection import train_test_split\n",
    "from sklearn.metrics import accuracy_score\n",
    "from sklearn.metrics import f1_score, roc_auc_score, roc_curve\n",
    "from sklearn.metrics import confusion_matrix"
   ]
  },
  {
   "cell_type": "code",
   "execution_count": 53,
   "metadata": {},
   "outputs": [
    {
     "data": {
      "text/html": [
       "<div>\n",
       "<style scoped>\n",
       "    .dataframe tbody tr th:only-of-type {\n",
       "        vertical-align: middle;\n",
       "    }\n",
       "\n",
       "    .dataframe tbody tr th {\n",
       "        vertical-align: top;\n",
       "    }\n",
       "\n",
       "    .dataframe thead th {\n",
       "        text-align: right;\n",
       "    }\n",
       "</style>\n",
       "<table border=\"1\" class=\"dataframe\">\n",
       "  <thead>\n",
       "    <tr style=\"text-align: right;\">\n",
       "      <th></th>\n",
       "      <th>Loan_ID</th>\n",
       "      <th>Gender</th>\n",
       "      <th>Married</th>\n",
       "      <th>Dependents</th>\n",
       "      <th>Education</th>\n",
       "      <th>Self_Employed</th>\n",
       "      <th>ApplicantIncome</th>\n",
       "      <th>CoapplicantIncome</th>\n",
       "      <th>LoanAmount</th>\n",
       "      <th>Loan_Amount_Term</th>\n",
       "      <th>Credit_History</th>\n",
       "      <th>Property_Area</th>\n",
       "      <th>Loan_Status</th>\n",
       "    </tr>\n",
       "  </thead>\n",
       "  <tbody>\n",
       "    <tr>\n",
       "      <th>0</th>\n",
       "      <td>LP001002</td>\n",
       "      <td>Male</td>\n",
       "      <td>No</td>\n",
       "      <td>0</td>\n",
       "      <td>Graduate</td>\n",
       "      <td>No</td>\n",
       "      <td>5849</td>\n",
       "      <td>0.0</td>\n",
       "      <td>NaN</td>\n",
       "      <td>360.0</td>\n",
       "      <td>1.0</td>\n",
       "      <td>Urban</td>\n",
       "      <td>Y</td>\n",
       "    </tr>\n",
       "    <tr>\n",
       "      <th>1</th>\n",
       "      <td>LP001003</td>\n",
       "      <td>Male</td>\n",
       "      <td>Yes</td>\n",
       "      <td>1</td>\n",
       "      <td>Graduate</td>\n",
       "      <td>No</td>\n",
       "      <td>4583</td>\n",
       "      <td>1508.0</td>\n",
       "      <td>128.0</td>\n",
       "      <td>360.0</td>\n",
       "      <td>1.0</td>\n",
       "      <td>Rural</td>\n",
       "      <td>N</td>\n",
       "    </tr>\n",
       "    <tr>\n",
       "      <th>2</th>\n",
       "      <td>LP001005</td>\n",
       "      <td>Male</td>\n",
       "      <td>Yes</td>\n",
       "      <td>0</td>\n",
       "      <td>Graduate</td>\n",
       "      <td>Yes</td>\n",
       "      <td>3000</td>\n",
       "      <td>0.0</td>\n",
       "      <td>66.0</td>\n",
       "      <td>360.0</td>\n",
       "      <td>1.0</td>\n",
       "      <td>Urban</td>\n",
       "      <td>Y</td>\n",
       "    </tr>\n",
       "    <tr>\n",
       "      <th>3</th>\n",
       "      <td>LP001006</td>\n",
       "      <td>Male</td>\n",
       "      <td>Yes</td>\n",
       "      <td>0</td>\n",
       "      <td>Not Graduate</td>\n",
       "      <td>No</td>\n",
       "      <td>2583</td>\n",
       "      <td>2358.0</td>\n",
       "      <td>120.0</td>\n",
       "      <td>360.0</td>\n",
       "      <td>1.0</td>\n",
       "      <td>Urban</td>\n",
       "      <td>Y</td>\n",
       "    </tr>\n",
       "    <tr>\n",
       "      <th>4</th>\n",
       "      <td>LP001008</td>\n",
       "      <td>Male</td>\n",
       "      <td>No</td>\n",
       "      <td>0</td>\n",
       "      <td>Graduate</td>\n",
       "      <td>No</td>\n",
       "      <td>6000</td>\n",
       "      <td>0.0</td>\n",
       "      <td>141.0</td>\n",
       "      <td>360.0</td>\n",
       "      <td>1.0</td>\n",
       "      <td>Urban</td>\n",
       "      <td>Y</td>\n",
       "    </tr>\n",
       "    <tr>\n",
       "      <th>...</th>\n",
       "      <td>...</td>\n",
       "      <td>...</td>\n",
       "      <td>...</td>\n",
       "      <td>...</td>\n",
       "      <td>...</td>\n",
       "      <td>...</td>\n",
       "      <td>...</td>\n",
       "      <td>...</td>\n",
       "      <td>...</td>\n",
       "      <td>...</td>\n",
       "      <td>...</td>\n",
       "      <td>...</td>\n",
       "      <td>...</td>\n",
       "    </tr>\n",
       "    <tr>\n",
       "      <th>609</th>\n",
       "      <td>LP002978</td>\n",
       "      <td>Female</td>\n",
       "      <td>No</td>\n",
       "      <td>0</td>\n",
       "      <td>Graduate</td>\n",
       "      <td>No</td>\n",
       "      <td>2900</td>\n",
       "      <td>0.0</td>\n",
       "      <td>71.0</td>\n",
       "      <td>360.0</td>\n",
       "      <td>1.0</td>\n",
       "      <td>Rural</td>\n",
       "      <td>Y</td>\n",
       "    </tr>\n",
       "    <tr>\n",
       "      <th>610</th>\n",
       "      <td>LP002979</td>\n",
       "      <td>Male</td>\n",
       "      <td>Yes</td>\n",
       "      <td>3+</td>\n",
       "      <td>Graduate</td>\n",
       "      <td>No</td>\n",
       "      <td>4106</td>\n",
       "      <td>0.0</td>\n",
       "      <td>40.0</td>\n",
       "      <td>180.0</td>\n",
       "      <td>1.0</td>\n",
       "      <td>Rural</td>\n",
       "      <td>Y</td>\n",
       "    </tr>\n",
       "    <tr>\n",
       "      <th>611</th>\n",
       "      <td>LP002983</td>\n",
       "      <td>Male</td>\n",
       "      <td>Yes</td>\n",
       "      <td>1</td>\n",
       "      <td>Graduate</td>\n",
       "      <td>No</td>\n",
       "      <td>8072</td>\n",
       "      <td>240.0</td>\n",
       "      <td>253.0</td>\n",
       "      <td>360.0</td>\n",
       "      <td>1.0</td>\n",
       "      <td>Urban</td>\n",
       "      <td>Y</td>\n",
       "    </tr>\n",
       "    <tr>\n",
       "      <th>612</th>\n",
       "      <td>LP002984</td>\n",
       "      <td>Male</td>\n",
       "      <td>Yes</td>\n",
       "      <td>2</td>\n",
       "      <td>Graduate</td>\n",
       "      <td>No</td>\n",
       "      <td>7583</td>\n",
       "      <td>0.0</td>\n",
       "      <td>187.0</td>\n",
       "      <td>360.0</td>\n",
       "      <td>1.0</td>\n",
       "      <td>Urban</td>\n",
       "      <td>Y</td>\n",
       "    </tr>\n",
       "    <tr>\n",
       "      <th>613</th>\n",
       "      <td>LP002990</td>\n",
       "      <td>Female</td>\n",
       "      <td>No</td>\n",
       "      <td>0</td>\n",
       "      <td>Graduate</td>\n",
       "      <td>Yes</td>\n",
       "      <td>4583</td>\n",
       "      <td>0.0</td>\n",
       "      <td>133.0</td>\n",
       "      <td>360.0</td>\n",
       "      <td>0.0</td>\n",
       "      <td>Semiurban</td>\n",
       "      <td>N</td>\n",
       "    </tr>\n",
       "  </tbody>\n",
       "</table>\n",
       "<p>614 rows × 13 columns</p>\n",
       "</div>"
      ],
      "text/plain": [
       "      Loan_ID  Gender Married Dependents     Education Self_Employed  \\\n",
       "0    LP001002    Male      No          0      Graduate            No   \n",
       "1    LP001003    Male     Yes          1      Graduate            No   \n",
       "2    LP001005    Male     Yes          0      Graduate           Yes   \n",
       "3    LP001006    Male     Yes          0  Not Graduate            No   \n",
       "4    LP001008    Male      No          0      Graduate            No   \n",
       "..        ...     ...     ...        ...           ...           ...   \n",
       "609  LP002978  Female      No          0      Graduate            No   \n",
       "610  LP002979    Male     Yes         3+      Graduate            No   \n",
       "611  LP002983    Male     Yes          1      Graduate            No   \n",
       "612  LP002984    Male     Yes          2      Graduate            No   \n",
       "613  LP002990  Female      No          0      Graduate           Yes   \n",
       "\n",
       "     ApplicantIncome  CoapplicantIncome  LoanAmount  Loan_Amount_Term  \\\n",
       "0               5849                0.0         NaN             360.0   \n",
       "1               4583             1508.0       128.0             360.0   \n",
       "2               3000                0.0        66.0             360.0   \n",
       "3               2583             2358.0       120.0             360.0   \n",
       "4               6000                0.0       141.0             360.0   \n",
       "..               ...                ...         ...               ...   \n",
       "609             2900                0.0        71.0             360.0   \n",
       "610             4106                0.0        40.0             180.0   \n",
       "611             8072              240.0       253.0             360.0   \n",
       "612             7583                0.0       187.0             360.0   \n",
       "613             4583                0.0       133.0             360.0   \n",
       "\n",
       "     Credit_History Property_Area Loan_Status  \n",
       "0               1.0         Urban           Y  \n",
       "1               1.0         Rural           N  \n",
       "2               1.0         Urban           Y  \n",
       "3               1.0         Urban           Y  \n",
       "4               1.0         Urban           Y  \n",
       "..              ...           ...         ...  \n",
       "609             1.0         Rural           Y  \n",
       "610             1.0         Rural           Y  \n",
       "611             1.0         Urban           Y  \n",
       "612             1.0         Urban           Y  \n",
       "613             0.0     Semiurban           N  \n",
       "\n",
       "[614 rows x 13 columns]"
      ]
     },
     "execution_count": 53,
     "metadata": {},
     "output_type": "execute_result"
    }
   ],
   "source": [
    "#importing the dataset\n",
    "df = pd.read_csv(\"D:/data science/exercise files/Credit_Risk_Train_data.csv\")\n",
    "df"
   ]
  },
  {
   "cell_type": "code",
   "execution_count": 54,
   "metadata": {},
   "outputs": [
    {
     "data": {
      "text/plain": [
       "(614, 13)"
      ]
     },
     "execution_count": 54,
     "metadata": {},
     "output_type": "execute_result"
    }
   ],
   "source": [
    "#checking the shape of the data\n",
    "df.shape"
   ]
  },
  {
   "cell_type": "code",
   "execution_count": 55,
   "metadata": {},
   "outputs": [
    {
     "data": {
      "text/plain": [
       "Index(['Loan_ID', 'Gender', 'Married', 'Dependents', 'Education',\n",
       "       'Self_Employed', 'ApplicantIncome', 'CoapplicantIncome', 'LoanAmount',\n",
       "       'Loan_Amount_Term', 'Credit_History', 'Property_Area', 'Loan_Status'],\n",
       "      dtype='object')"
      ]
     },
     "execution_count": 55,
     "metadata": {},
     "output_type": "execute_result"
    }
   ],
   "source": [
    "#data overview steps before data cleaning just ton understand data\n",
    "df.columns"
   ]
  },
  {
   "cell_type": "code",
   "execution_count": 56,
   "metadata": {},
   "outputs": [
    {
     "data": {
      "text/html": [
       "<div>\n",
       "<style scoped>\n",
       "    .dataframe tbody tr th:only-of-type {\n",
       "        vertical-align: middle;\n",
       "    }\n",
       "\n",
       "    .dataframe tbody tr th {\n",
       "        vertical-align: top;\n",
       "    }\n",
       "\n",
       "    .dataframe thead th {\n",
       "        text-align: right;\n",
       "    }\n",
       "</style>\n",
       "<table border=\"1\" class=\"dataframe\">\n",
       "  <thead>\n",
       "    <tr style=\"text-align: right;\">\n",
       "      <th></th>\n",
       "      <th>Loan_ID</th>\n",
       "      <th>Gender</th>\n",
       "      <th>Married</th>\n",
       "      <th>Dependents</th>\n",
       "      <th>Education</th>\n",
       "      <th>Self_Employed</th>\n",
       "      <th>ApplicantIncome</th>\n",
       "      <th>CoapplicantIncome</th>\n",
       "      <th>LoanAmount</th>\n",
       "      <th>Loan_Amount_Term</th>\n",
       "      <th>Credit_History</th>\n",
       "      <th>Property_Area</th>\n",
       "      <th>Loan_Status</th>\n",
       "    </tr>\n",
       "  </thead>\n",
       "  <tbody>\n",
       "    <tr>\n",
       "      <th>0</th>\n",
       "      <td>LP001002</td>\n",
       "      <td>Male</td>\n",
       "      <td>No</td>\n",
       "      <td>0</td>\n",
       "      <td>Graduate</td>\n",
       "      <td>No</td>\n",
       "      <td>5849</td>\n",
       "      <td>0.0</td>\n",
       "      <td>NaN</td>\n",
       "      <td>360.0</td>\n",
       "      <td>1.0</td>\n",
       "      <td>Urban</td>\n",
       "      <td>Y</td>\n",
       "    </tr>\n",
       "    <tr>\n",
       "      <th>1</th>\n",
       "      <td>LP001003</td>\n",
       "      <td>Male</td>\n",
       "      <td>Yes</td>\n",
       "      <td>1</td>\n",
       "      <td>Graduate</td>\n",
       "      <td>No</td>\n",
       "      <td>4583</td>\n",
       "      <td>1508.0</td>\n",
       "      <td>128.0</td>\n",
       "      <td>360.0</td>\n",
       "      <td>1.0</td>\n",
       "      <td>Rural</td>\n",
       "      <td>N</td>\n",
       "    </tr>\n",
       "    <tr>\n",
       "      <th>2</th>\n",
       "      <td>LP001005</td>\n",
       "      <td>Male</td>\n",
       "      <td>Yes</td>\n",
       "      <td>0</td>\n",
       "      <td>Graduate</td>\n",
       "      <td>Yes</td>\n",
       "      <td>3000</td>\n",
       "      <td>0.0</td>\n",
       "      <td>66.0</td>\n",
       "      <td>360.0</td>\n",
       "      <td>1.0</td>\n",
       "      <td>Urban</td>\n",
       "      <td>Y</td>\n",
       "    </tr>\n",
       "    <tr>\n",
       "      <th>3</th>\n",
       "      <td>LP001006</td>\n",
       "      <td>Male</td>\n",
       "      <td>Yes</td>\n",
       "      <td>0</td>\n",
       "      <td>Not Graduate</td>\n",
       "      <td>No</td>\n",
       "      <td>2583</td>\n",
       "      <td>2358.0</td>\n",
       "      <td>120.0</td>\n",
       "      <td>360.0</td>\n",
       "      <td>1.0</td>\n",
       "      <td>Urban</td>\n",
       "      <td>Y</td>\n",
       "    </tr>\n",
       "    <tr>\n",
       "      <th>4</th>\n",
       "      <td>LP001008</td>\n",
       "      <td>Male</td>\n",
       "      <td>No</td>\n",
       "      <td>0</td>\n",
       "      <td>Graduate</td>\n",
       "      <td>No</td>\n",
       "      <td>6000</td>\n",
       "      <td>0.0</td>\n",
       "      <td>141.0</td>\n",
       "      <td>360.0</td>\n",
       "      <td>1.0</td>\n",
       "      <td>Urban</td>\n",
       "      <td>Y</td>\n",
       "    </tr>\n",
       "  </tbody>\n",
       "</table>\n",
       "</div>"
      ],
      "text/plain": [
       "    Loan_ID Gender Married Dependents     Education Self_Employed  \\\n",
       "0  LP001002   Male      No          0      Graduate            No   \n",
       "1  LP001003   Male     Yes          1      Graduate            No   \n",
       "2  LP001005   Male     Yes          0      Graduate           Yes   \n",
       "3  LP001006   Male     Yes          0  Not Graduate            No   \n",
       "4  LP001008   Male      No          0      Graduate            No   \n",
       "\n",
       "   ApplicantIncome  CoapplicantIncome  LoanAmount  Loan_Amount_Term  \\\n",
       "0             5849                0.0         NaN             360.0   \n",
       "1             4583             1508.0       128.0             360.0   \n",
       "2             3000                0.0        66.0             360.0   \n",
       "3             2583             2358.0       120.0             360.0   \n",
       "4             6000                0.0       141.0             360.0   \n",
       "\n",
       "   Credit_History Property_Area Loan_Status  \n",
       "0             1.0         Urban           Y  \n",
       "1             1.0         Rural           N  \n",
       "2             1.0         Urban           Y  \n",
       "3             1.0         Urban           Y  \n",
       "4             1.0         Urban           Y  "
      ]
     },
     "execution_count": 56,
     "metadata": {},
     "output_type": "execute_result"
    }
   ],
   "source": [
    "df.head()"
   ]
  },
  {
   "cell_type": "code",
   "execution_count": 57,
   "metadata": {},
   "outputs": [
    {
     "data": {
      "text/plain": [
       "Loan_ID               object\n",
       "Gender                object\n",
       "Married               object\n",
       "Dependents            object\n",
       "Education             object\n",
       "Self_Employed         object\n",
       "ApplicantIncome        int64\n",
       "CoapplicantIncome    float64\n",
       "LoanAmount           float64\n",
       "Loan_Amount_Term     float64\n",
       "Credit_History       float64\n",
       "Property_Area         object\n",
       "Loan_Status           object\n",
       "dtype: object"
      ]
     },
     "execution_count": 57,
     "metadata": {},
     "output_type": "execute_result"
    }
   ],
   "source": [
    "df.dtypes"
   ]
  },
  {
   "cell_type": "code",
   "execution_count": 58,
   "metadata": {},
   "outputs": [
    {
     "data": {
      "text/html": [
       "<div>\n",
       "<style scoped>\n",
       "    .dataframe tbody tr th:only-of-type {\n",
       "        vertical-align: middle;\n",
       "    }\n",
       "\n",
       "    .dataframe tbody tr th {\n",
       "        vertical-align: top;\n",
       "    }\n",
       "\n",
       "    .dataframe thead th {\n",
       "        text-align: right;\n",
       "    }\n",
       "</style>\n",
       "<table border=\"1\" class=\"dataframe\">\n",
       "  <thead>\n",
       "    <tr style=\"text-align: right;\">\n",
       "      <th></th>\n",
       "      <th>Loan_ID</th>\n",
       "      <th>Gender</th>\n",
       "      <th>Married</th>\n",
       "      <th>Dependents</th>\n",
       "      <th>Education</th>\n",
       "      <th>Self_Employed</th>\n",
       "      <th>ApplicantIncome</th>\n",
       "      <th>CoapplicantIncome</th>\n",
       "      <th>LoanAmount</th>\n",
       "      <th>Loan_Amount_Term</th>\n",
       "      <th>Credit_History</th>\n",
       "      <th>Property_Area</th>\n",
       "      <th>Loan_Status</th>\n",
       "    </tr>\n",
       "  </thead>\n",
       "  <tbody>\n",
       "    <tr>\n",
       "      <th>count</th>\n",
       "      <td>614</td>\n",
       "      <td>601</td>\n",
       "      <td>611</td>\n",
       "      <td>599</td>\n",
       "      <td>614</td>\n",
       "      <td>582</td>\n",
       "      <td>614.000000</td>\n",
       "      <td>614.000000</td>\n",
       "      <td>592.000000</td>\n",
       "      <td>600.00000</td>\n",
       "      <td>564.000000</td>\n",
       "      <td>614</td>\n",
       "      <td>614</td>\n",
       "    </tr>\n",
       "    <tr>\n",
       "      <th>unique</th>\n",
       "      <td>614</td>\n",
       "      <td>2</td>\n",
       "      <td>2</td>\n",
       "      <td>4</td>\n",
       "      <td>2</td>\n",
       "      <td>2</td>\n",
       "      <td>NaN</td>\n",
       "      <td>NaN</td>\n",
       "      <td>NaN</td>\n",
       "      <td>NaN</td>\n",
       "      <td>NaN</td>\n",
       "      <td>3</td>\n",
       "      <td>2</td>\n",
       "    </tr>\n",
       "    <tr>\n",
       "      <th>top</th>\n",
       "      <td>LP001206</td>\n",
       "      <td>Male</td>\n",
       "      <td>Yes</td>\n",
       "      <td>0</td>\n",
       "      <td>Graduate</td>\n",
       "      <td>No</td>\n",
       "      <td>NaN</td>\n",
       "      <td>NaN</td>\n",
       "      <td>NaN</td>\n",
       "      <td>NaN</td>\n",
       "      <td>NaN</td>\n",
       "      <td>Semiurban</td>\n",
       "      <td>Y</td>\n",
       "    </tr>\n",
       "    <tr>\n",
       "      <th>freq</th>\n",
       "      <td>1</td>\n",
       "      <td>489</td>\n",
       "      <td>398</td>\n",
       "      <td>345</td>\n",
       "      <td>480</td>\n",
       "      <td>500</td>\n",
       "      <td>NaN</td>\n",
       "      <td>NaN</td>\n",
       "      <td>NaN</td>\n",
       "      <td>NaN</td>\n",
       "      <td>NaN</td>\n",
       "      <td>233</td>\n",
       "      <td>422</td>\n",
       "    </tr>\n",
       "    <tr>\n",
       "      <th>mean</th>\n",
       "      <td>NaN</td>\n",
       "      <td>NaN</td>\n",
       "      <td>NaN</td>\n",
       "      <td>NaN</td>\n",
       "      <td>NaN</td>\n",
       "      <td>NaN</td>\n",
       "      <td>5403.459283</td>\n",
       "      <td>1621.245798</td>\n",
       "      <td>146.412162</td>\n",
       "      <td>342.00000</td>\n",
       "      <td>0.842199</td>\n",
       "      <td>NaN</td>\n",
       "      <td>NaN</td>\n",
       "    </tr>\n",
       "    <tr>\n",
       "      <th>std</th>\n",
       "      <td>NaN</td>\n",
       "      <td>NaN</td>\n",
       "      <td>NaN</td>\n",
       "      <td>NaN</td>\n",
       "      <td>NaN</td>\n",
       "      <td>NaN</td>\n",
       "      <td>6109.041673</td>\n",
       "      <td>2926.248369</td>\n",
       "      <td>85.587325</td>\n",
       "      <td>65.12041</td>\n",
       "      <td>0.364878</td>\n",
       "      <td>NaN</td>\n",
       "      <td>NaN</td>\n",
       "    </tr>\n",
       "    <tr>\n",
       "      <th>min</th>\n",
       "      <td>NaN</td>\n",
       "      <td>NaN</td>\n",
       "      <td>NaN</td>\n",
       "      <td>NaN</td>\n",
       "      <td>NaN</td>\n",
       "      <td>NaN</td>\n",
       "      <td>150.000000</td>\n",
       "      <td>0.000000</td>\n",
       "      <td>9.000000</td>\n",
       "      <td>12.00000</td>\n",
       "      <td>0.000000</td>\n",
       "      <td>NaN</td>\n",
       "      <td>NaN</td>\n",
       "    </tr>\n",
       "    <tr>\n",
       "      <th>25%</th>\n",
       "      <td>NaN</td>\n",
       "      <td>NaN</td>\n",
       "      <td>NaN</td>\n",
       "      <td>NaN</td>\n",
       "      <td>NaN</td>\n",
       "      <td>NaN</td>\n",
       "      <td>2877.500000</td>\n",
       "      <td>0.000000</td>\n",
       "      <td>100.000000</td>\n",
       "      <td>360.00000</td>\n",
       "      <td>1.000000</td>\n",
       "      <td>NaN</td>\n",
       "      <td>NaN</td>\n",
       "    </tr>\n",
       "    <tr>\n",
       "      <th>50%</th>\n",
       "      <td>NaN</td>\n",
       "      <td>NaN</td>\n",
       "      <td>NaN</td>\n",
       "      <td>NaN</td>\n",
       "      <td>NaN</td>\n",
       "      <td>NaN</td>\n",
       "      <td>3812.500000</td>\n",
       "      <td>1188.500000</td>\n",
       "      <td>128.000000</td>\n",
       "      <td>360.00000</td>\n",
       "      <td>1.000000</td>\n",
       "      <td>NaN</td>\n",
       "      <td>NaN</td>\n",
       "    </tr>\n",
       "    <tr>\n",
       "      <th>75%</th>\n",
       "      <td>NaN</td>\n",
       "      <td>NaN</td>\n",
       "      <td>NaN</td>\n",
       "      <td>NaN</td>\n",
       "      <td>NaN</td>\n",
       "      <td>NaN</td>\n",
       "      <td>5795.000000</td>\n",
       "      <td>2297.250000</td>\n",
       "      <td>168.000000</td>\n",
       "      <td>360.00000</td>\n",
       "      <td>1.000000</td>\n",
       "      <td>NaN</td>\n",
       "      <td>NaN</td>\n",
       "    </tr>\n",
       "    <tr>\n",
       "      <th>max</th>\n",
       "      <td>NaN</td>\n",
       "      <td>NaN</td>\n",
       "      <td>NaN</td>\n",
       "      <td>NaN</td>\n",
       "      <td>NaN</td>\n",
       "      <td>NaN</td>\n",
       "      <td>81000.000000</td>\n",
       "      <td>41667.000000</td>\n",
       "      <td>700.000000</td>\n",
       "      <td>480.00000</td>\n",
       "      <td>1.000000</td>\n",
       "      <td>NaN</td>\n",
       "      <td>NaN</td>\n",
       "    </tr>\n",
       "  </tbody>\n",
       "</table>\n",
       "</div>"
      ],
      "text/plain": [
       "         Loan_ID Gender Married Dependents Education Self_Employed  \\\n",
       "count        614    601     611        599       614           582   \n",
       "unique       614      2       2          4         2             2   \n",
       "top     LP001206   Male     Yes          0  Graduate            No   \n",
       "freq           1    489     398        345       480           500   \n",
       "mean         NaN    NaN     NaN        NaN       NaN           NaN   \n",
       "std          NaN    NaN     NaN        NaN       NaN           NaN   \n",
       "min          NaN    NaN     NaN        NaN       NaN           NaN   \n",
       "25%          NaN    NaN     NaN        NaN       NaN           NaN   \n",
       "50%          NaN    NaN     NaN        NaN       NaN           NaN   \n",
       "75%          NaN    NaN     NaN        NaN       NaN           NaN   \n",
       "max          NaN    NaN     NaN        NaN       NaN           NaN   \n",
       "\n",
       "        ApplicantIncome  CoapplicantIncome  LoanAmount  Loan_Amount_Term  \\\n",
       "count        614.000000         614.000000  592.000000         600.00000   \n",
       "unique              NaN                NaN         NaN               NaN   \n",
       "top                 NaN                NaN         NaN               NaN   \n",
       "freq                NaN                NaN         NaN               NaN   \n",
       "mean        5403.459283        1621.245798  146.412162         342.00000   \n",
       "std         6109.041673        2926.248369   85.587325          65.12041   \n",
       "min          150.000000           0.000000    9.000000          12.00000   \n",
       "25%         2877.500000           0.000000  100.000000         360.00000   \n",
       "50%         3812.500000        1188.500000  128.000000         360.00000   \n",
       "75%         5795.000000        2297.250000  168.000000         360.00000   \n",
       "max        81000.000000       41667.000000  700.000000         480.00000   \n",
       "\n",
       "        Credit_History Property_Area Loan_Status  \n",
       "count       564.000000           614         614  \n",
       "unique             NaN             3           2  \n",
       "top                NaN     Semiurban           Y  \n",
       "freq               NaN           233         422  \n",
       "mean          0.842199           NaN         NaN  \n",
       "std           0.364878           NaN         NaN  \n",
       "min           0.000000           NaN         NaN  \n",
       "25%           1.000000           NaN         NaN  \n",
       "50%           1.000000           NaN         NaN  \n",
       "75%           1.000000           NaN         NaN  \n",
       "max           1.000000           NaN         NaN  "
      ]
     },
     "execution_count": 58,
     "metadata": {},
     "output_type": "execute_result"
    }
   ],
   "source": [
    "df_desc = df.describe(include='all')\n",
    "df_desc"
   ]
  },
  {
   "cell_type": "markdown",
   "metadata": {},
   "source": [
    "## Data Preprocessing"
   ]
  },
  {
   "cell_type": "code",
   "execution_count": 59,
   "metadata": {},
   "outputs": [
    {
     "name": "stdout",
     "output_type": "stream",
     "text": [
      "Loan_ID   (614,)\n",
      "Gender   (3,)\n",
      "Married   (3,)\n",
      "Dependents   (5,)\n",
      "Education   (2,)\n",
      "Self_Employed   (3,)\n",
      "ApplicantIncome   (505,)\n",
      "CoapplicantIncome   (287,)\n",
      "LoanAmount   (204,)\n",
      "Loan_Amount_Term   (11,)\n",
      "Credit_History   (3,)\n",
      "Property_Area   (3,)\n",
      "Loan_Status   (2,)\n"
     ]
    }
   ],
   "source": [
    "# Getting the uniQue Values\n",
    "for val in df:\n",
    "    print(val, \" \", df[val].unique().shape)"
   ]
  },
  {
   "cell_type": "code",
   "execution_count": 60,
   "metadata": {},
   "outputs": [],
   "source": [
    "# dealing with UniQue, or same value columns.\n",
    "df.drop(\"Loan_ID\", axis=1, inplace=True)"
   ]
  },
  {
   "cell_type": "code",
   "execution_count": 61,
   "metadata": {},
   "outputs": [],
   "source": [
    "# Converting column type\n",
    "df[\"Credit_History\"] = df[\"Credit_History\"].astype(\"object\")"
   ]
  },
  {
   "cell_type": "code",
   "execution_count": 62,
   "metadata": {},
   "outputs": [
    {
     "data": {
      "text/plain": [
       "Gender                object\n",
       "Married               object\n",
       "Dependents            object\n",
       "Education             object\n",
       "Self_Employed         object\n",
       "ApplicantIncome        int64\n",
       "CoapplicantIncome    float64\n",
       "LoanAmount           float64\n",
       "Loan_Amount_Term     float64\n",
       "Credit_History        object\n",
       "Property_Area         object\n",
       "Loan_Status           object\n",
       "dtype: object"
      ]
     },
     "execution_count": 62,
     "metadata": {},
     "output_type": "execute_result"
    }
   ],
   "source": [
    "df.dtypes"
   ]
  },
  {
   "cell_type": "code",
   "execution_count": 63,
   "metadata": {},
   "outputs": [
    {
     "data": {
      "text/plain": [
       "1.0    475\n",
       "0.0     89\n",
       "Name: Credit_History, dtype: int64"
      ]
     },
     "execution_count": 63,
     "metadata": {},
     "output_type": "execute_result"
    }
   ],
   "source": [
    "df.Credit_History.value_counts()"
   ]
  },
  {
   "cell_type": "code",
   "execution_count": 64,
   "metadata": {},
   "outputs": [
    {
     "name": "stdout",
     "output_type": "stream",
     "text": [
      "Male      489\n",
      "Female    112\n",
      "Name: Gender, dtype: int64\n",
      "Yes    398\n",
      "No     213\n",
      "Name: Married, dtype: int64\n",
      "0     345\n",
      "1     102\n",
      "2     101\n",
      "3+     51\n",
      "Name: Dependents, dtype: int64\n",
      "Graduate        480\n",
      "Not Graduate    134\n",
      "Name: Education, dtype: int64\n",
      "No     500\n",
      "Yes     82\n",
      "Name: Self_Employed, dtype: int64\n",
      "1.0    475\n",
      "0.0     89\n",
      "Name: Credit_History, dtype: int64\n",
      "Semiurban    233\n",
      "Urban        202\n",
      "Rural        179\n",
      "Name: Property_Area, dtype: int64\n",
      "Y    422\n",
      "N    192\n",
      "Name: Loan_Status, dtype: int64\n"
     ]
    }
   ],
   "source": [
    "# Counting the freQunecy of variables to check the baisness\n",
    "for val in df:\n",
    "    if df[val].dtypes == \"object\":\n",
    "        print(df[val].value_counts())"
   ]
  },
  {
   "cell_type": "code",
   "execution_count": 65,
   "metadata": {},
   "outputs": [
    {
     "name": "stdout",
     "output_type": "stream",
     "text": [
      "[]\n"
     ]
    }
   ],
   "source": [
    "# Checking the single value domination/biased\n",
    "quasi_constant_feat = []\n",
    "for feature in df.columns:\n",
    "    dominant = (df[feature].value_counts() / np.float(len(df))).sort_values(ascending=False).values[0]\n",
    "    if dominant > 0.95:\n",
    "       quasi_constant_feat.append(feature)\n",
    "\n",
    "print(quasi_constant_feat)"
   ]
  },
  {
   "cell_type": "code",
   "execution_count": 66,
   "metadata": {},
   "outputs": [
    {
     "data": {
      "text/plain": [
       "Gender                True\n",
       "Married               True\n",
       "Dependents            True\n",
       "Education            False\n",
       "Self_Employed         True\n",
       "ApplicantIncome      False\n",
       "CoapplicantIncome    False\n",
       "LoanAmount            True\n",
       "Loan_Amount_Term      True\n",
       "Credit_History        True\n",
       "Property_Area        False\n",
       "Loan_Status          False\n",
       "dtype: bool"
      ]
     },
     "execution_count": 66,
     "metadata": {},
     "output_type": "execute_result"
    }
   ],
   "source": [
    "### Null Value analysis & treatment.\n",
    "df.isnull().any()"
   ]
  },
  {
   "cell_type": "code",
   "execution_count": 67,
   "metadata": {},
   "outputs": [
    {
     "data": {
      "text/plain": [
       "Gender               13\n",
       "Married               3\n",
       "Dependents           15\n",
       "Education             0\n",
       "Self_Employed        32\n",
       "ApplicantIncome       0\n",
       "CoapplicantIncome     0\n",
       "LoanAmount           22\n",
       "Loan_Amount_Term     14\n",
       "Credit_History       50\n",
       "Property_Area         0\n",
       "Loan_Status           0\n",
       "dtype: int64"
      ]
     },
     "execution_count": 67,
     "metadata": {},
     "output_type": "execute_result"
    }
   ],
   "source": [
    "df.isnull().sum()"
   ]
  },
  {
   "cell_type": "code",
   "execution_count": 68,
   "metadata": {},
   "outputs": [
    {
     "name": "stdout",
     "output_type": "stream",
     "text": [
      "Gender   2.1172638436482085\n",
      "Married   0.4885993485342019\n",
      "Dependents   2.44299674267101\n",
      "Education   0.0\n",
      "Self_Employed   5.211726384364821\n",
      "ApplicantIncome   0.0\n",
      "CoapplicantIncome   0.0\n",
      "LoanAmount   3.5830618892508146\n",
      "Loan_Amount_Term   2.2801302931596092\n",
      "Credit_History   8.143322475570033\n",
      "Property_Area   0.0\n",
      "Loan_Status   0.0\n"
     ]
    }
   ],
   "source": [
    "for val in df:\n",
    "    print(val, \" \", (df[val].isnull().sum() / df.shape[0]) * 100)"
   ]
  },
  {
   "cell_type": "code",
   "execution_count": 69,
   "metadata": {},
   "outputs": [],
   "source": [
    "# No of rows getting affctected by removing na's\n",
    "no_of_rows = df[df.isna().sum(axis=1) >= 1].shape[0]"
   ]
  },
  {
   "cell_type": "code",
   "execution_count": 70,
   "metadata": {},
   "outputs": [
    {
     "name": "stdout",
     "output_type": "stream",
     "text": [
      "21.824104234527688\n"
     ]
    }
   ],
   "source": [
    "# % of rows getting affcted by removing Na's from column.\n",
    "print((no_of_rows / df.shape[0]) * 100)"
   ]
  },
  {
   "cell_type": "code",
   "execution_count": 71,
   "metadata": {},
   "outputs": [],
   "source": [
    "#  Imputation according to data type\n",
    "def imputenull(data):\n",
    "    for col in data.columns:\n",
    "        if data[col].dtypes == 'int64' or data[col].dtypes == 'float64':\n",
    "           data[col].fillna((data[col].mean()), inplace=True)\n",
    "        else:\n",
    "            data[col].fillna(data[col].value_counts().index[0], inplace=True)\n",
    "\n",
    "\n",
    "imputenull(df)"
   ]
  },
  {
   "cell_type": "code",
   "execution_count": 72,
   "metadata": {},
   "outputs": [
    {
     "data": {
      "text/plain": [
       "Gender               0\n",
       "Married              0\n",
       "Dependents           0\n",
       "Education            0\n",
       "Self_Employed        0\n",
       "ApplicantIncome      0\n",
       "CoapplicantIncome    0\n",
       "LoanAmount           0\n",
       "Loan_Amount_Term     0\n",
       "Credit_History       0\n",
       "Property_Area        0\n",
       "Loan_Status          0\n",
       "dtype: int64"
      ]
     },
     "execution_count": 72,
     "metadata": {},
     "output_type": "execute_result"
    }
   ],
   "source": [
    "# Now checking on the dataset after imputing the columns\n",
    "df.isnull().sum()"
   ]
  },
  {
   "cell_type": "markdown",
   "metadata": {},
   "source": [
    "## Exploratory Data Analysis"
   ]
  },
  {
   "cell_type": "code",
   "execution_count": 73,
   "metadata": {},
   "outputs": [],
   "source": [
    "# Converting column type\n",
    "df[\"Credit_History\"] = df[\"Credit_History\"].astype(\"object\")"
   ]
  },
  {
   "cell_type": "code",
   "execution_count": 74,
   "metadata": {},
   "outputs": [],
   "source": [
    "#segregate the data\n",
    "df_num = df.select_dtypes(include=['int64','float64' ])\n",
    "df_fac = df.select_dtypes(include=['object'])"
   ]
  },
  {
   "cell_type": "code",
   "execution_count": 75,
   "metadata": {},
   "outputs": [
    {
     "data": {
      "text/plain": [
       "Index(['ApplicantIncome', 'CoapplicantIncome', 'LoanAmount',\n",
       "       'Loan_Amount_Term'],\n",
       "      dtype='object')"
      ]
     },
     "execution_count": 75,
     "metadata": {},
     "output_type": "execute_result"
    }
   ],
   "source": [
    "df_num.columns"
   ]
  },
  {
   "cell_type": "code",
   "execution_count": 76,
   "metadata": {},
   "outputs": [
    {
     "data": {
      "text/plain": [
       "Index(['Gender', 'Married', 'Dependents', 'Education', 'Self_Employed',\n",
       "       'Credit_History', 'Property_Area', 'Loan_Status'],\n",
       "      dtype='object')"
      ]
     },
     "execution_count": 76,
     "metadata": {},
     "output_type": "execute_result"
    }
   ],
   "source": [
    "df_fac.columns"
   ]
  },
  {
   "cell_type": "code",
   "execution_count": 77,
   "metadata": {
    "scrolled": false
   },
   "outputs": [
    {
     "data": {
      "image/png": "[encoded data removed]",
      "text/plain": [
       "<Figure size 432x288 with 1 Axes>"
      ]
     },
     "metadata": {
      "needs_background": "light"
     },
     "output_type": "display_data"
    },
    {
     "data": {
      "image/png": "[encoded data removed]",
      "text/plain": [
       "<Figure size 432x288 with 1 Axes>"
      ]
     },
     "metadata": {
      "needs_background": "light"
     },
     "output_type": "display_data"
    },
    {
     "data": {
      "image/png": "[encoded data removed]",
      "text/plain": [
       "<Figure size 432x288 with 1 Axes>"
      ]
     },
     "metadata": {
      "needs_background": "light"
     },
     "output_type": "display_data"
    },
    {
     "data": {
      "image/png": "[encoded data removed]",
      "text/plain": [
       "<Figure size 432x288 with 1 Axes>"
      ]
     },
     "metadata": {
      "needs_background": "light"
     },
     "output_type": "display_data"
    }
   ],
   "source": [
    "##plotting histogram for all numeric column\n",
    "for i, col in enumerate(df_num.columns):\n",
    "    plt.figure(i)\n",
    "    sns.distplot(df_num[col])"
   ]
  },
  {
   "cell_type": "code",
   "execution_count": 78,
   "metadata": {},
   "outputs": [],
   "source": [
    "fac_feature = ['Gender', 'Married', 'Dependents', 'Education', 'Self_Employed',\n",
    "       'Credit_History', 'Property_Area', 'Loan_Status']"
   ]
  },
  {
   "cell_type": "code",
   "execution_count": 79,
   "metadata": {},
   "outputs": [
    {
     "data": {
      "text/plain": [
       "[(0, 'Gender'),\n",
       " (1, 'Married'),\n",
       " (2, 'Dependents'),\n",
       " (3, 'Education'),\n",
       " (4, 'Self_Employed'),\n",
       " (5, 'Credit_History'),\n",
       " (6, 'Property_Area'),\n",
       " (7, 'Loan_Status')]"
      ]
     },
     "execution_count": 79,
     "metadata": {},
     "output_type": "execute_result"
    }
   ],
   "source": [
    "list(enumerate(fac_feature))"
   ]
  },
  {
   "cell_type": "code",
   "execution_count": 80,
   "metadata": {
    "scrolled": false
   },
   "outputs": [
    {
     "data": {
      "image/png": "[encoded data removed]",
      "text/plain": [
       "<Figure size 720x720 with 8 Axes>"
      ]
     },
     "metadata": {
      "needs_background": "light"
     },
     "output_type": "display_data"
    }
   ],
   "source": [
    "##Plotting barplot for all categorical columns\n",
    "plt.figure(figsize= (10,10))\n",
    "for i in enumerate(fac_feature):\n",
    "    plt.subplot(3,3,i[0]+1)\n",
    "    sns.countplot(i[1],data= df_fac)\n",
    "    "
   ]
  },
  {
   "cell_type": "markdown",
   "metadata": {},
   "source": [
    "## Data Splitting"
   ]
  },
  {
   "cell_type": "code",
   "execution_count": 81,
   "metadata": {},
   "outputs": [],
   "source": [
    "# Training & Test split of data\n",
    "tar_var = df['Loan_Status']\n",
    "df.drop(\"Loan_Status\", axis=1, inplace=True)"
   ]
  },
  {
   "cell_type": "code",
   "execution_count": 82,
   "metadata": {},
   "outputs": [
    {
     "data": {
      "text/plain": [
       "(614, 21)"
      ]
     },
     "execution_count": 82,
     "metadata": {},
     "output_type": "execute_result"
    }
   ],
   "source": [
    "# Converting in dummies\n",
    "df = pd.get_dummies(df, drop_first=False)\n",
    "df.shape"
   ]
  },
  {
   "cell_type": "code",
   "execution_count": 162,
   "metadata": {},
   "outputs": [],
   "source": [
    "#Spliting now.\n",
    "x_train,x_test,y_train,y_test = train_test_split(df, tar_var, random_state = 10,test_size = 0.2)"
   ]
  },
  {
   "cell_type": "code",
   "execution_count": 163,
   "metadata": {},
   "outputs": [
    {
     "data": {
      "text/plain": [
       "(491, 21)"
      ]
     },
     "execution_count": 163,
     "metadata": {},
     "output_type": "execute_result"
    }
   ],
   "source": [
    "x_train.shape"
   ]
  },
  {
   "cell_type": "code",
   "execution_count": 164,
   "metadata": {},
   "outputs": [
    {
     "data": {
      "text/plain": [
       "(123, 21)"
      ]
     },
     "execution_count": 164,
     "metadata": {},
     "output_type": "execute_result"
    }
   ],
   "source": [
    "x_test.shape"
   ]
  },
  {
   "cell_type": "code",
   "execution_count": 165,
   "metadata": {},
   "outputs": [
    {
     "data": {
      "text/plain": [
       "(491,)"
      ]
     },
     "execution_count": 165,
     "metadata": {},
     "output_type": "execute_result"
    }
   ],
   "source": [
    "y_train.shape"
   ]
  },
  {
   "cell_type": "code",
   "execution_count": 166,
   "metadata": {},
   "outputs": [
    {
     "data": {
      "text/plain": [
       "(123,)"
      ]
     },
     "execution_count": 166,
     "metadata": {},
     "output_type": "execute_result"
    }
   ],
   "source": [
    "y_test.shape"
   ]
  },
  {
   "cell_type": "markdown",
   "metadata": {},
   "source": [
    "## Model Creation & Validation"
   ]
  },
  {
   "cell_type": "markdown",
   "metadata": {},
   "source": [
    "### 1.Logistic Regression"
   ]
  },
  {
   "cell_type": "code",
   "execution_count": 167,
   "metadata": {},
   "outputs": [],
   "source": [
    "# Logistic Regression\n",
    "from sklearn.linear_model import LogisticRegression\n",
    "log_model = LogisticRegression()"
   ]
  },
  {
   "cell_type": "code",
   "execution_count": 168,
   "metadata": {},
   "outputs": [
    {
     "data": {
      "text/plain": [
       "LogisticRegression()"
      ]
     },
     "execution_count": 168,
     "metadata": {},
     "output_type": "execute_result"
    }
   ],
   "source": [
    "# train the model using the training sets\n",
    "log_model.fit(x_train, y_train)"
   ]
  },
  {
   "cell_type": "code",
   "execution_count": 169,
   "metadata": {},
   "outputs": [],
   "source": [
    "# making predictions on the testing set\n",
    "y_pred = log_model.predict(x_test)"
   ]
  },
  {
   "cell_type": "code",
   "execution_count": 170,
   "metadata": {},
   "outputs": [
    {
     "data": {
      "text/plain": [
       "array([[0.38336342, 0.61663658],\n",
       "       [0.43017345, 0.56982655],\n",
       "       [0.08972887, 0.91027113],\n",
       "       [0.10827584, 0.89172416],\n",
       "       [0.17251773, 0.82748227],\n",
       "       [0.13846459, 0.86153541],\n",
       "       [0.66379793, 0.33620207],\n",
       "       [0.07254828, 0.92745172],\n",
       "       [0.19292785, 0.80707215],\n",
       "       [0.28580967, 0.71419033],\n",
       "       [0.10984024, 0.89015976],\n",
       "       [0.20666312, 0.79333688],\n",
       "       [0.07100822, 0.92899178],\n",
       "       [0.2031379 , 0.7968621 ],\n",
       "       [0.93130698, 0.06869302],\n",
       "       [0.26739656, 0.73260344],\n",
       "       [0.16880736, 0.83119264],\n",
       "       [0.1454873 , 0.8545127 ],\n",
       "       [0.50851334, 0.49148666],\n",
       "       [0.33490368, 0.66509632],\n",
       "       [0.17907051, 0.82092949],\n",
       "       [0.063828  , 0.936172  ],\n",
       "       [0.23601682, 0.76398318],\n",
       "       [0.85708198, 0.14291802],\n",
       "       [0.23280658, 0.76719342],\n",
       "       [0.24804777, 0.75195223],\n",
       "       [0.1696128 , 0.8303872 ],\n",
       "       [0.31017911, 0.68982089],\n",
       "       [0.18679886, 0.81320114],\n",
       "       [0.22404022, 0.77595978],\n",
       "       [0.20080218, 0.79919782],\n",
       "       [0.31137198, 0.68862802],\n",
       "       [0.04908435, 0.95091565],\n",
       "       [0.80069537, 0.19930463],\n",
       "       [0.19984583, 0.80015417],\n",
       "       [0.24159822, 0.75840178],\n",
       "       [0.21195058, 0.78804942],\n",
       "       [0.08086666, 0.91913334],\n",
       "       [0.28648484, 0.71351516],\n",
       "       [0.20346898, 0.79653102],\n",
       "       [0.16223901, 0.83776099],\n",
       "       [0.08133349, 0.91866651],\n",
       "       [0.5216676 , 0.4783324 ],\n",
       "       [0.15697734, 0.84302266],\n",
       "       [0.4644485 , 0.5355515 ],\n",
       "       [0.15405629, 0.84594371],\n",
       "       [0.08112974, 0.91887026],\n",
       "       [0.37710904, 0.62289096],\n",
       "       [0.36977643, 0.63022357],\n",
       "       [0.34535599, 0.65464401],\n",
       "       [0.07012356, 0.92987644],\n",
       "       [0.38067574, 0.61932426],\n",
       "       [0.28711739, 0.71288261],\n",
       "       [0.29441774, 0.70558226],\n",
       "       [0.82671501, 0.17328499],\n",
       "       [0.23365111, 0.76634889],\n",
       "       [0.52579958, 0.47420042],\n",
       "       [0.92914632, 0.07085368],\n",
       "       [0.26673563, 0.73326437],\n",
       "       [0.12477216, 0.87522784],\n",
       "       [0.08954812, 0.91045188],\n",
       "       [0.19019475, 0.80980525],\n",
       "       [0.22349327, 0.77650673],\n",
       "       [0.48393239, 0.51606761],\n",
       "       [0.1259942 , 0.8740058 ],\n",
       "       [0.26751506, 0.73248494],\n",
       "       [0.14812732, 0.85187268],\n",
       "       [0.14733371, 0.85266629],\n",
       "       [0.37569565, 0.62430435],\n",
       "       [0.15043013, 0.84956987],\n",
       "       [0.05509818, 0.94490182],\n",
       "       [0.17187748, 0.82812252],\n",
       "       [0.28911255, 0.71088745],\n",
       "       [0.83074616, 0.16925384],\n",
       "       [0.25677047, 0.74322953],\n",
       "       [0.14227721, 0.85772279],\n",
       "       [0.55522904, 0.44477096],\n",
       "       [0.09729284, 0.90270716],\n",
       "       [0.9080545 , 0.0919455 ],\n",
       "       [0.16511854, 0.83488146],\n",
       "       [0.13345898, 0.86654102],\n",
       "       [0.92683868, 0.07316132],\n",
       "       [0.10022123, 0.89977877],\n",
       "       [0.33696881, 0.66303119],\n",
       "       [0.17174707, 0.82825293],\n",
       "       [0.17325518, 0.82674482],\n",
       "       [0.84573268, 0.15426732],\n",
       "       [0.29549432, 0.70450568],\n",
       "       [0.68501058, 0.31498942],\n",
       "       [0.12886889, 0.87113111],\n",
       "       [0.3114789 , 0.6885211 ],\n",
       "       [0.30410436, 0.69589564],\n",
       "       [0.06908119, 0.93091881],\n",
       "       [0.17616091, 0.82383909],\n",
       "       [0.36344575, 0.63655425],\n",
       "       [0.15438059, 0.84561941],\n",
       "       [0.08626209, 0.91373791],\n",
       "       [0.17135392, 0.82864608],\n",
       "       [0.68876386, 0.31123614],\n",
       "       [0.11276186, 0.88723814],\n",
       "       [0.21880595, 0.78119405],\n",
       "       [0.11776476, 0.88223524],\n",
       "       [0.12223225, 0.87776775],\n",
       "       [0.1355609 , 0.8644391 ],\n",
       "       [0.507303  , 0.492697  ],\n",
       "       [0.12445201, 0.87554799],\n",
       "       [0.06406439, 0.93593561],\n",
       "       [0.17896818, 0.82103182],\n",
       "       [0.22421524, 0.77578476],\n",
       "       [0.40336948, 0.59663052],\n",
       "       [0.31631158, 0.68368842],\n",
       "       [0.36507839, 0.63492161],\n",
       "       [0.1929591 , 0.8070409 ],\n",
       "       [0.25934724, 0.74065276],\n",
       "       [0.17265046, 0.82734954],\n",
       "       [0.18212945, 0.81787055],\n",
       "       [0.16606048, 0.83393952],\n",
       "       [0.10505847, 0.89494153],\n",
       "       [0.8470499 , 0.1529501 ],\n",
       "       [0.29079671, 0.70920329],\n",
       "       [0.24348595, 0.75651405],\n",
       "       [0.29006015, 0.70993985],\n",
       "       [0.17779375, 0.82220625]])"
      ]
     },
     "execution_count": 170,
     "metadata": {},
     "output_type": "execute_result"
    }
   ],
   "source": [
    "pred_prob = log_model.predict_proba(x_test)\n",
    "pred_prob"
   ]
  },
  {
   "cell_type": "code",
   "execution_count": 171,
   "metadata": {},
   "outputs": [
    {
     "data": {
      "text/plain": [
       "78.86178861788618"
      ]
     },
     "execution_count": 171,
     "metadata": {},
     "output_type": "execute_result"
    }
   ],
   "source": [
    "# comparing actual response values (y_test) with predicted response values (y_pred)\n",
    "metrics.accuracy_score(y_test, y_pred) * 100"
   ]
  },
  {
   "cell_type": "code",
   "execution_count": 172,
   "metadata": {},
   "outputs": [
    {
     "name": "stdout",
     "output_type": "stream",
     "text": [
      "[[14 22]\n",
      " [ 4 83]]\n"
     ]
    }
   ],
   "source": [
    "print(metrics.confusion_matrix(y_test, y_pred))"
   ]
  },
  {
   "cell_type": "code",
   "execution_count": 173,
   "metadata": {},
   "outputs": [
    {
     "name": "stdout",
     "output_type": "stream",
     "text": [
      "[[14 22]\n",
      " [ 4 83]]\n"
     ]
    }
   ],
   "source": [
    "# save confusion matrix and slice into four pieces---- deep diving into confusion matrix\n",
    "confusion = metrics.confusion_matrix(y_test, y_pred)\n",
    "print(confusion)"
   ]
  },
  {
   "cell_type": "code",
   "execution_count": 174,
   "metadata": {},
   "outputs": [],
   "source": [
    "#[row, column]\n",
    "TP = confusion[1, 1]\n",
    "TN = confusion[0, 0]\n",
    "FP = confusion[0, 1]\n",
    "FN = confusion[1, 0]"
   ]
  },
  {
   "cell_type": "code",
   "execution_count": 175,
   "metadata": {},
   "outputs": [],
   "source": [
    "# Converting the categorical output into numerical output\n",
    "lst_test =[]\n",
    "for val in y_test:\n",
    "    x = 1 if(val == \"Y\") else 0\n",
    "    lst_test.append(x)\n",
    "    \n",
    "lst_pred =[]\n",
    "for val in y_pred:\n",
    "    x = 1 if(val == \"Y\") else 0\n",
    "    lst_pred.append(x)"
   ]
  },
  {
   "cell_type": "code",
   "execution_count": 176,
   "metadata": {},
   "outputs": [
    {
     "name": "stdout",
     "output_type": "stream",
     "text": [
      "0.7886178861788617\n",
      "0.7886178861788617\n"
     ]
    }
   ],
   "source": [
    "print((TP + TN) / float(TP + TN + FP + FN))                 #Accuracy by calculation\n",
    "print(metrics.accuracy_score(lst_test, lst_pred))         # Confusion maytrix"
   ]
  },
  {
   "cell_type": "code",
   "execution_count": 177,
   "metadata": {},
   "outputs": [
    {
     "name": "stdout",
     "output_type": "stream",
     "text": [
      "21.138211382113823\n",
      "21.138211382113823\n"
     ]
    }
   ],
   "source": [
    "classification_error = (FP + FN) / float(TP + TN + FP + FN) #Error\n",
    "print(classification_error*100)\n",
    "print((1 - metrics.accuracy_score(lst_test, lst_pred))*100)"
   ]
  },
  {
   "cell_type": "code",
   "execution_count": 178,
   "metadata": {},
   "outputs": [
    {
     "name": "stdout",
     "output_type": "stream",
     "text": [
      "0.9540229885057471\n",
      "0.9540229885057471\n"
     ]
    }
   ],
   "source": [
    "sensitivity = TP / float(FN + TP)\n",
    "print(sensitivity)\n",
    "print(metrics.recall_score(lst_test, lst_pred))"
   ]
  },
  {
   "cell_type": "code",
   "execution_count": 179,
   "metadata": {},
   "outputs": [
    {
     "name": "stdout",
     "output_type": "stream",
     "text": [
      "0.3888888888888889\n"
     ]
    }
   ],
   "source": [
    "specificity = TN / (TN + FP)\n",
    "print(specificity)"
   ]
  },
  {
   "cell_type": "code",
   "execution_count": 180,
   "metadata": {},
   "outputs": [
    {
     "name": "stdout",
     "output_type": "stream",
     "text": [
      "0.6111111111111112\n",
      "0.6111111111111112\n"
     ]
    }
   ],
   "source": [
    "false_positive_rate = FP / float(TN + FP)\n",
    "print(false_positive_rate)\n",
    "print(1 - specificity)"
   ]
  },
  {
   "cell_type": "code",
   "execution_count": 181,
   "metadata": {},
   "outputs": [
    {
     "name": "stdout",
     "output_type": "stream",
     "text": [
      "0.7904761904761904\n",
      "0.7904761904761904\n"
     ]
    }
   ],
   "source": [
    "precision = TP / float(TP + FP)\n",
    "print(precision)\n",
    "print(metrics.precision_score(lst_test, lst_pred))"
   ]
  },
  {
   "cell_type": "code",
   "execution_count": 182,
   "metadata": {},
   "outputs": [
    {
     "name": "stdout",
     "output_type": "stream",
     "text": [
      "0.8645833333333333\n"
     ]
    }
   ],
   "source": [
    "# F1 Score FORMULA\n",
    "F1 = 2 * (precision * sensitivity) / (precision + sensitivity)\n",
    "print(F1)"
   ]
  },
  {
   "cell_type": "code",
   "execution_count": 183,
   "metadata": {},
   "outputs": [
    {
     "data": {
      "image/png": "[encoded data removed]",
      "text/plain": [
       "<Figure size 432x288 with 1 Axes>"
      ]
     },
     "metadata": {
      "needs_background": "light"
     },
     "output_type": "display_data"
    }
   ],
   "source": [
    "fpr, tpr, thresholds = metrics.roc_curve(lst_test, lst_pred)\n",
    "plt.plot(fpr, tpr)\n",
    "plt.xlim([0.0, 1.0])\n",
    "plt.ylim([0.0, 1.0])\n",
    "plt.rcParams['font.size'] = 12\n",
    "plt.title('ROC curve for Credit risk classifier')\n",
    "plt.xlabel('False Positive Rate (1 - Specificity)')\n",
    "plt.ylabel('True Positive Rate (Sensitivity)')\n",
    "plt.grid(True)"
   ]
  },
  {
   "cell_type": "code",
   "execution_count": 184,
   "metadata": {},
   "outputs": [
    {
     "name": "stdout",
     "output_type": "stream",
     "text": [
      "0.671455938697318\n"
     ]
    }
   ],
   "source": [
    "print(metrics.roc_auc_score(lst_test, lst_pred))"
   ]
  },
  {
   "cell_type": "code",
   "execution_count": 185,
   "metadata": {},
   "outputs": [
    {
     "data": {
      "text/plain": [
       "0.7679300356506238"
      ]
     },
     "execution_count": 185,
     "metadata": {},
     "output_type": "execute_result"
    }
   ],
   "source": [
    "from sklearn.model_selection import cross_val_score\n",
    "cross_val_score(log_model, x_train, y_train, cv=10, scoring='roc_auc').mean()"
   ]
  },
  {
   "cell_type": "code",
   "execution_count": 186,
   "metadata": {},
   "outputs": [],
   "source": [
    "log_accuracy= metrics.accuracy_score(lst_test, lst_pred)\n",
    "log_recall= metrics.recall_score(lst_test, lst_pred)\n",
    "log_precision= metrics.precision_score(lst_test, lst_pred)\n",
    "log_roc_auc= metrics.roc_auc_score(lst_test, lst_pred)"
   ]
  },
  {
   "cell_type": "markdown",
   "metadata": {},
   "source": [
    "### 2.Decision Tree"
   ]
  },
  {
   "cell_type": "code",
   "execution_count": 187,
   "metadata": {},
   "outputs": [
    {
     "data": {
      "text/plain": [
       "DecisionTreeClassifier(random_state=0)"
      ]
     },
     "execution_count": 187,
     "metadata": {},
     "output_type": "execute_result"
    }
   ],
   "source": [
    "# Applying Decision tree classifier\n",
    "from sklearn.tree import DecisionTreeClassifier\n",
    "DT = DecisionTreeClassifier(random_state=0)\n",
    "DT.fit(x_train, y_train)"
   ]
  },
  {
   "cell_type": "code",
   "execution_count": 189,
   "metadata": {},
   "outputs": [
    {
     "data": {
      "text/plain": [
       "[Text(130.8588022237197, 211.4, 'X[17] <= 0.5\\ngini = 0.434\\nsamples = 491\\nvalue = [156, 335]'),\n",
       " Text(30.682479784366578, 199.32, 'X[2] <= 547.5\\ngini = 0.145\\nsamples = 76\\nvalue = [70, 6]'),\n",
       " Text(27.072776280323453, 187.24, 'X[1] <= 8115.0\\ngini = 0.124\\nsamples = 75\\nvalue = [70, 5]'),\n",
       " Text(18.048517520215633, 175.16, 'X[2] <= 159.0\\ngini = 0.104\\nsamples = 73\\nvalue = [69, 4]'),\n",
       " Text(10.82911051212938, 163.07999999999998, 'X[3] <= 240.0\\ngini = 0.036\\nsamples = 54\\nvalue = [53, 1]'),\n",
       " Text(7.219407008086254, 151.0, 'X[0] <= 2568.0\\ngini = 0.32\\nsamples = 5\\nvalue = [4, 1]'),\n",
       " Text(3.609703504043127, 138.92000000000002, 'gini = 0.0\\nsamples = 1\\nvalue = [0, 1]'),\n",
       " Text(10.82911051212938, 138.92000000000002, 'gini = 0.0\\nsamples = 4\\nvalue = [4, 0]'),\n",
       " Text(14.438814016172508, 151.0, 'gini = 0.0\\nsamples = 49\\nvalue = [49, 0]'),\n",
       " Text(25.26792452830189, 163.07999999999998, 'X[2] <= 172.0\\ngini = 0.266\\nsamples = 19\\nvalue = [16, 3]'),\n",
       " Text(21.65822102425876, 151.0, 'X[19] <= 0.5\\ngini = 0.5\\nsamples = 6\\nvalue = [3, 3]'),\n",
       " Text(18.048517520215633, 138.92000000000002, 'X[11] <= 0.5\\ngini = 0.375\\nsamples = 4\\nvalue = [3, 1]'),\n",
       " Text(14.438814016172508, 126.84, 'gini = 0.0\\nsamples = 3\\nvalue = [3, 0]'),\n",
       " Text(21.65822102425876, 126.84, 'gini = 0.0\\nsamples = 1\\nvalue = [0, 1]'),\n",
       " Text(25.26792452830189, 138.92000000000002, 'gini = 0.0\\nsamples = 2\\nvalue = [0, 2]'),\n",
       " Text(28.877628032345015, 151.0, 'gini = 0.0\\nsamples = 13\\nvalue = [13, 0]'),\n",
       " Text(36.097035040431265, 175.16, 'X[11] <= 0.5\\ngini = 0.5\\nsamples = 2\\nvalue = [1, 1]'),\n",
       " Text(32.48733153638814, 163.07999999999998, 'gini = 0.0\\nsamples = 1\\nvalue = [0, 1]'),\n",
       " Text(39.7067385444744, 163.07999999999998, 'gini = 0.0\\nsamples = 1\\nvalue = [1, 0]'),\n",
       " Text(34.2921832884097, 187.24, 'gini = 0.0\\nsamples = 1\\nvalue = [0, 1]'),\n",
       " Text(231.0351246630728, 199.32, 'X[19] <= 0.5\\ngini = 0.329\\nsamples = 415\\nvalue = [86, 329]'),\n",
       " Text(152.98938679245285, 187.24, 'X[1] <= 14166.5\\ngini = 0.391\\nsamples = 248\\nvalue = [66, 182]'),\n",
       " Text(149.37968328840972, 175.16, 'X[1] <= 8.06\\ngini = 0.382\\nsamples = 245\\nvalue = [63, 182]'),\n",
       " Text(75.80377358490567, 163.07999999999998, 'X[0] <= 5333.5\\ngini = 0.436\\nsamples = 109\\nvalue = [35, 74]'),\n",
       " Text(45.572506738544476, 151.0, 'X[0] <= 2389.0\\ngini = 0.499\\nsamples = 55\\nvalue = [26, 29]'),\n",
       " Text(32.48733153638814, 138.92000000000002, 'X[4] <= 0.5\\ngini = 0.245\\nsamples = 7\\nvalue = [6, 1]'),\n",
       " Text(28.877628032345015, 126.84, 'gini = 0.0\\nsamples = 4\\nvalue = [4, 0]'),\n",
       " Text(36.097035040431265, 126.84, 'X[0] <= 2295.5\\ngini = 0.444\\nsamples = 3\\nvalue = [2, 1]'),\n",
       " Text(32.48733153638814, 114.75999999999999, 'gini = 0.0\\nsamples = 1\\nvalue = [0, 1]'),\n",
       " Text(39.7067385444744, 114.75999999999999, 'gini = 0.0\\nsamples = 2\\nvalue = [2, 0]'),\n",
       " Text(58.65768194070081, 138.92000000000002, 'X[2] <= 132.5\\ngini = 0.486\\nsamples = 48\\nvalue = [20, 28]'),\n",
       " Text(50.53584905660378, 126.84, 'X[2] <= 114.5\\ngini = 0.444\\nsamples = 36\\nvalue = [12, 24]'),\n",
       " Text(46.92614555256065, 114.75999999999999, 'X[3] <= 420.0\\ngini = 0.49\\nsamples = 28\\nvalue = [12, 16]'),\n",
       " Text(43.31644204851752, 102.67999999999999, 'X[0] <= 3327.0\\ngini = 0.473\\nsamples = 26\\nvalue = [10, 16]'),\n",
       " Text(34.2921832884097, 90.6, 'X[13] <= 0.5\\ngini = 0.298\\nsamples = 11\\nvalue = [2, 9]'),\n",
       " Text(30.682479784366578, 78.52000000000001, 'X[0] <= 2457.0\\ngini = 0.18\\nsamples = 10\\nvalue = [1, 9]'),\n",
       " Text(27.072776280323453, 66.44, 'X[0] <= 2417.5\\ngini = 0.5\\nsamples = 2\\nvalue = [1, 1]'),\n",
       " Text(23.463072776280324, 54.359999999999985, 'gini = 0.0\\nsamples = 1\\nvalue = [0, 1]'),\n",
       " Text(30.682479784366578, 54.359999999999985, 'gini = 0.0\\nsamples = 1\\nvalue = [1, 0]'),\n",
       " Text(34.2921832884097, 66.44, 'gini = 0.0\\nsamples = 8\\nvalue = [0, 8]'),\n",
       " Text(37.901886792452835, 78.52000000000001, 'gini = 0.0\\nsamples = 1\\nvalue = [1, 0]'),\n",
       " Text(52.34070080862534, 90.6, 'X[2] <= 95.5\\ngini = 0.498\\nsamples = 15\\nvalue = [8, 7]'),\n",
       " Text(45.121293800539085, 78.52000000000001, 'X[2] <= 88.5\\ngini = 0.278\\nsamples = 6\\nvalue = [5, 1]'),\n",
       " Text(41.51159029649596, 66.44, 'gini = 0.0\\nsamples = 3\\nvalue = [3, 0]'),\n",
       " Text(48.73099730458221, 66.44, 'X[2] <= 93.5\\ngini = 0.444\\nsamples = 3\\nvalue = [2, 1]'),\n",
       " Text(45.121293800539085, 54.359999999999985, 'gini = 0.0\\nsamples = 1\\nvalue = [0, 1]'),\n",
       " Text(52.34070080862534, 54.359999999999985, 'gini = 0.0\\nsamples = 2\\nvalue = [2, 0]'),\n",
       " Text(59.56010781671159, 78.52000000000001, 'X[12] <= 0.5\\ngini = 0.444\\nsamples = 9\\nvalue = [3, 6]'),\n",
       " Text(55.95040431266847, 66.44, 'gini = 0.0\\nsamples = 3\\nvalue = [0, 3]'),\n",
       " Text(63.16981132075472, 66.44, 'X[8] <= 0.5\\ngini = 0.5\\nsamples = 6\\nvalue = [3, 3]'),\n",
       " Text(59.56010781671159, 54.359999999999985, 'X[14] <= 0.5\\ngini = 0.375\\nsamples = 4\\nvalue = [1, 3]'),\n",
       " Text(55.95040431266847, 42.28, 'gini = 0.0\\nsamples = 1\\nvalue = [1, 0]'),\n",
       " Text(63.16981132075472, 42.28, 'gini = 0.0\\nsamples = 3\\nvalue = [0, 3]'),\n",
       " Text(66.77951482479784, 54.359999999999985, 'gini = 0.0\\nsamples = 2\\nvalue = [2, 0]'),\n",
       " Text(50.53584905660378, 102.67999999999999, 'gini = 0.0\\nsamples = 2\\nvalue = [2, 0]'),\n",
       " Text(54.145552560646905, 114.75999999999999, 'gini = 0.0\\nsamples = 8\\nvalue = [0, 8]'),\n",
       " Text(66.77951482479784, 126.84, 'X[2] <= 212.5\\ngini = 0.444\\nsamples = 12\\nvalue = [8, 4]'),\n",
       " Text(63.16981132075472, 114.75999999999999, 'X[0] <= 4171.0\\ngini = 0.397\\nsamples = 11\\nvalue = [8, 3]'),\n",
       " Text(59.56010781671159, 102.67999999999999, 'gini = 0.0\\nsamples = 5\\nvalue = [5, 0]'),\n",
       " Text(66.77951482479784, 102.67999999999999, 'X[0] <= 4485.0\\ngini = 0.5\\nsamples = 6\\nvalue = [3, 3]'),\n",
       " Text(63.16981132075472, 90.6, 'gini = 0.0\\nsamples = 2\\nvalue = [0, 2]'),\n",
       " Text(70.38921832884097, 90.6, 'X[9] <= 0.5\\ngini = 0.375\\nsamples = 4\\nvalue = [3, 1]'),\n",
       " Text(66.77951482479784, 78.52000000000001, 'gini = 0.0\\nsamples = 3\\nvalue = [3, 0]'),\n",
       " Text(73.99892183288411, 78.52000000000001, 'gini = 0.0\\nsamples = 1\\nvalue = [0, 1]'),\n",
       " Text(70.38921832884097, 114.75999999999999, 'gini = 0.0\\nsamples = 1\\nvalue = [0, 1]'),\n",
       " Text(106.03504043126685, 151.0, 'X[8] <= 0.5\\ngini = 0.278\\nsamples = 54\\nvalue = [9, 45]'),\n",
       " Text(88.43773584905661, 138.92000000000002, 'X[2] <= 450.0\\ngini = 0.147\\nsamples = 25\\nvalue = [2, 23]'),\n",
       " Text(81.21832884097036, 126.84, 'X[14] <= 0.5\\ngini = 0.083\\nsamples = 23\\nvalue = [1, 22]'),\n",
       " Text(77.60862533692723, 114.75999999999999, 'X[0] <= 8893.5\\ngini = 0.32\\nsamples = 5\\nvalue = [1, 4]'),\n",
       " Text(73.99892183288411, 102.67999999999999, 'gini = 0.0\\nsamples = 3\\nvalue = [0, 3]'),\n",
       " Text(81.21832884097036, 102.67999999999999, 'X[10] <= 0.5\\ngini = 0.5\\nsamples = 2\\nvalue = [1, 1]'),\n",
       " Text(77.60862533692723, 90.6, 'gini = 0.0\\nsamples = 1\\nvalue = [1, 0]'),\n",
       " Text(84.82803234501348, 90.6, 'gini = 0.0\\nsamples = 1\\nvalue = [0, 1]'),\n",
       " Text(84.82803234501348, 114.75999999999999, 'gini = 0.0\\nsamples = 18\\nvalue = [0, 18]'),\n",
       " Text(95.65714285714286, 126.84, 'X[9] <= 0.5\\ngini = 0.5\\nsamples = 2\\nvalue = [1, 1]'),\n",
       " Text(92.04743935309973, 114.75999999999999, 'gini = 0.0\\nsamples = 1\\nvalue = [0, 1]'),\n",
       " Text(99.26684636118598, 114.75999999999999, 'gini = 0.0\\nsamples = 1\\nvalue = [1, 0]'),\n",
       " Text(123.63234501347709, 138.92000000000002, 'X[2] <= 135.5\\ngini = 0.366\\nsamples = 29\\nvalue = [7, 22]'),\n",
       " Text(110.09595687331537, 126.84, 'X[5] <= 0.5\\ngini = 0.49\\nsamples = 7\\nvalue = [3, 4]'),\n",
       " Text(106.48625336927225, 114.75999999999999, 'gini = 0.0\\nsamples = 2\\nvalue = [0, 2]'),\n",
       " Text(113.7056603773585, 114.75999999999999, 'X[13] <= 0.5\\ngini = 0.48\\nsamples = 5\\nvalue = [3, 2]'),\n",
       " Text(110.09595687331537, 102.67999999999999, 'X[0] <= 10161.5\\ngini = 0.444\\nsamples = 3\\nvalue = [1, 2]'),\n",
       " Text(106.48625336927225, 90.6, 'gini = 0.0\\nsamples = 2\\nvalue = [0, 2]'),\n",
       " Text(113.7056603773585, 90.6, 'gini = 0.0\\nsamples = 1\\nvalue = [1, 0]'),\n",
       " Text(117.31536388140162, 102.67999999999999, 'gini = 0.0\\nsamples = 2\\nvalue = [2, 0]'),\n",
       " Text(137.1687331536388, 126.84, 'X[0] <= 5787.5\\ngini = 0.298\\nsamples = 22\\nvalue = [4, 18]'),\n",
       " Text(128.144474393531, 114.75999999999999, 'X[0] <= 5581.5\\ngini = 0.5\\nsamples = 2\\nvalue = [1, 1]'),\n",
       " Text(124.53477088948787, 102.67999999999999, 'gini = 0.0\\nsamples = 1\\nvalue = [0, 1]'),\n",
       " Text(131.75417789757412, 102.67999999999999, 'gini = 0.0\\nsamples = 1\\nvalue = [1, 0]'),\n",
       " Text(146.19299191374665, 114.75999999999999, 'X[0] <= 20416.5\\ngini = 0.255\\nsamples = 20\\nvalue = [3, 17]'),\n",
       " Text(138.97358490566037, 102.67999999999999, 'X[0] <= 6591.0\\ngini = 0.198\\nsamples = 18\\nvalue = [2, 16]'),\n",
       " Text(135.36388140161725, 90.6, 'gini = 0.0\\nsamples = 7\\nvalue = [0, 7]'),\n",
       " Text(142.5832884097035, 90.6, 'X[0] <= 6802.0\\ngini = 0.298\\nsamples = 11\\nvalue = [2, 9]'),\n",
       " Text(138.97358490566037, 78.52000000000001, 'gini = 0.0\\nsamples = 1\\nvalue = [1, 0]'),\n",
       " Text(146.19299191374665, 78.52000000000001, 'X[5] <= 0.5\\ngini = 0.18\\nsamples = 10\\nvalue = [1, 9]'),\n",
       " Text(142.5832884097035, 66.44, 'X[2] <= 166.0\\ngini = 0.444\\nsamples = 3\\nvalue = [1, 2]'),\n",
       " Text(138.97358490566037, 54.359999999999985, 'gini = 0.0\\nsamples = 1\\nvalue = [0, 1]'),\n",
       " Text(146.19299191374665, 54.359999999999985, 'X[15] <= 0.5\\ngini = 0.5\\nsamples = 2\\nvalue = [1, 1]'),\n",
       " Text(142.5832884097035, 42.28, 'gini = 0.0\\nsamples = 1\\nvalue = [0, 1]'),\n",
       " Text(149.80269541778978, 42.28, 'gini = 0.0\\nsamples = 1\\nvalue = [1, 0]'),\n",
       " Text(149.80269541778978, 66.44, 'gini = 0.0\\nsamples = 7\\nvalue = [0, 7]'),\n",
       " Text(153.4123989218329, 102.67999999999999, 'X[2] <= 318.206\\ngini = 0.5\\nsamples = 2\\nvalue = [1, 1]'),\n",
       " Text(149.80269541778978, 90.6, 'gini = 0.0\\nsamples = 1\\nvalue = [1, 0]'),\n",
       " Text(157.02210242587603, 90.6, 'gini = 0.0\\nsamples = 1\\nvalue = [0, 1]'),\n",
       " Text(222.95559299191376, 163.07999999999998, 'X[0] <= 4028.0\\ngini = 0.327\\nsamples = 136\\nvalue = [28, 108]'),\n",
       " Text(200.4513477088949, 151.0, 'X[0] <= 397.5\\ngini = 0.231\\nsamples = 90\\nvalue = [12, 78]'),\n",
       " Text(196.84164420485178, 138.92000000000002, 'gini = 0.0\\nsamples = 1\\nvalue = [1, 0]'),\n",
       " Text(204.06105121293803, 138.92000000000002, 'X[2] <= 158.5\\ngini = 0.217\\nsamples = 89\\nvalue = [11, 78]'),\n",
       " Text(180.71078167115905, 126.84, 'X[0] <= 1012.5\\ngini = 0.173\\nsamples = 73\\nvalue = [7, 66]'),\n",
       " Text(168.75363881401617, 114.75999999999999, 'X[2] <= 111.5\\ngini = 0.5\\nsamples = 2\\nvalue = [1, 1]'),\n",
       " Text(165.14393530997305, 102.67999999999999, 'gini = 0.0\\nsamples = 1\\nvalue = [1, 0]'),\n",
       " Text(172.3633423180593, 102.67999999999999, 'gini = 0.0\\nsamples = 1\\nvalue = [0, 1]'),\n",
       " Text(192.6679245283019, 114.75999999999999, 'X[1] <= 3798.0\\ngini = 0.155\\nsamples = 71\\nvalue = [6, 65]'),\n",
       " Text(179.58274932614557, 102.67999999999999, 'X[2] <= 68.0\\ngini = 0.134\\nsamples = 69\\nvalue = [5, 64]'),\n",
       " Text(164.24150943396228, 90.6, 'X[0] <= 2650.0\\ngini = 0.375\\nsamples = 8\\nvalue = [2, 6]'),\n",
       " Text(160.63180592991915, 78.52000000000001, 'gini = 0.0\\nsamples = 5\\nvalue = [0, 5]'),\n",
       " Text(167.8512129380054, 78.52000000000001, 'X[6] <= 0.5\\ngini = 0.444\\nsamples = 3\\nvalue = [2, 1]'),\n",
       " Text(164.24150943396228, 66.44, 'gini = 0.0\\nsamples = 2\\nvalue = [2, 0]'),\n",
       " Text(171.46091644204853, 66.44, 'gini = 0.0\\nsamples = 1\\nvalue = [0, 1]'),\n",
       " Text(194.92398921832884, 90.6, 'X[3] <= 240.0\\ngini = 0.094\\nsamples = 61\\nvalue = [3, 58]'),\n",
       " Text(182.2900269541779, 78.52000000000001, 'X[13] <= 0.5\\ngini = 0.32\\nsamples = 5\\nvalue = [1, 4]'),\n",
       " Text(178.68032345013478, 66.44, 'gini = 0.0\\nsamples = 3\\nvalue = [0, 3]'),\n",
       " Text(185.89973045822103, 66.44, 'X[2] <= 125.5\\ngini = 0.5\\nsamples = 2\\nvalue = [1, 1]'),\n",
       " Text(182.2900269541779, 54.359999999999985, 'gini = 0.0\\nsamples = 1\\nvalue = [0, 1]'),\n",
       " Text(189.50943396226415, 54.359999999999985, 'gini = 0.0\\nsamples = 1\\nvalue = [1, 0]'),\n",
       " Text(207.5579514824798, 78.52000000000001, 'X[0] <= 1933.5\\ngini = 0.069\\nsamples = 56\\nvalue = [2, 54]'),\n",
       " Text(200.33854447439353, 66.44, 'X[0] <= 1836.5\\ngini = 0.278\\nsamples = 6\\nvalue = [1, 5]'),\n",
       " Text(196.7288409703504, 54.359999999999985, 'gini = 0.0\\nsamples = 5\\nvalue = [0, 5]'),\n",
       " Text(203.94824797843668, 54.359999999999985, 'gini = 0.0\\nsamples = 1\\nvalue = [1, 0]'),\n",
       " Text(214.77735849056606, 66.44, 'X[0] <= 3361.5\\ngini = 0.039\\nsamples = 50\\nvalue = [1, 49]'),\n",
       " Text(211.16765498652293, 54.359999999999985, 'gini = 0.0\\nsamples = 39\\nvalue = [0, 39]'),\n",
       " Text(218.38706199460918, 54.359999999999985, 'X[0] <= 3416.0\\ngini = 0.165\\nsamples = 11\\nvalue = [1, 10]'),\n",
       " Text(214.77735849056606, 42.28, 'gini = 0.0\\nsamples = 1\\nvalue = [1, 0]'),\n",
       " Text(221.9967654986523, 42.28, 'gini = 0.0\\nsamples = 10\\nvalue = [0, 10]'),\n",
       " Text(205.75309973045825, 102.67999999999999, 'X[13] <= 0.5\\ngini = 0.5\\nsamples = 2\\nvalue = [1, 1]'),\n",
       " Text(202.14339622641512, 90.6, 'gini = 0.0\\nsamples = 1\\nvalue = [0, 1]'),\n",
       " Text(209.36280323450137, 90.6, 'gini = 0.0\\nsamples = 1\\nvalue = [1, 0]'),\n",
       " Text(227.411320754717, 126.84, 'X[1] <= 2743.0\\ngini = 0.375\\nsamples = 16\\nvalue = [4, 12]'),\n",
       " Text(223.80161725067387, 114.75999999999999, 'X[1] <= 1796.5\\ngini = 0.49\\nsamples = 7\\nvalue = [4, 3]'),\n",
       " Text(220.19191374663075, 102.67999999999999, 'X[0] <= 3032.0\\ngini = 0.375\\nsamples = 4\\nvalue = [1, 3]'),\n",
       " Text(216.58221024258762, 90.6, 'gini = 0.0\\nsamples = 1\\nvalue = [1, 0]'),\n",
       " Text(223.80161725067387, 90.6, 'gini = 0.0\\nsamples = 3\\nvalue = [0, 3]'),\n",
       " Text(227.411320754717, 102.67999999999999, 'gini = 0.0\\nsamples = 3\\nvalue = [3, 0]'),\n",
       " Text(231.02102425876012, 114.75999999999999, 'gini = 0.0\\nsamples = 9\\nvalue = [0, 9]'),\n",
       " Text(245.45983827493262, 151.0, 'X[4] <= 0.5\\ngini = 0.454\\nsamples = 46\\nvalue = [16, 30]'),\n",
       " Text(241.8501347708895, 138.92000000000002, 'X[1] <= 1427.0\\ngini = 0.422\\nsamples = 43\\nvalue = [13, 30]'),\n",
       " Text(238.24043126684637, 126.84, 'gini = 0.0\\nsamples = 9\\nvalue = [0, 9]'),\n",
       " Text(245.45983827493262, 126.84, 'X[1] <= 5463.5\\ngini = 0.472\\nsamples = 34\\nvalue = [13, 21]'),\n",
       " Text(241.8501347708895, 114.75999999999999, 'X[0] <= 10625.0\\ngini = 0.497\\nsamples = 28\\nvalue = [13, 15]'),\n",
       " Text(238.24043126684637, 102.67999999999999, 'X[0] <= 4291.5\\ngini = 0.48\\nsamples = 25\\nvalue = [10, 15]'),\n",
       " Text(231.02102425876012, 90.6, 'X[7] <= 0.5\\ngini = 0.32\\nsamples = 5\\nvalue = [4, 1]'),\n",
       " Text(227.411320754717, 78.52000000000001, 'gini = 0.0\\nsamples = 1\\nvalue = [0, 1]'),\n",
       " Text(234.63072776280325, 78.52000000000001, 'gini = 0.0\\nsamples = 4\\nvalue = [4, 0]'),\n",
       " Text(245.45983827493262, 90.6, 'X[1] <= 1650.5\\ngini = 0.42\\nsamples = 20\\nvalue = [6, 14]'),\n",
       " Text(241.8501347708895, 78.52000000000001, 'gini = 0.0\\nsamples = 1\\nvalue = [1, 0]'),\n",
       " Text(249.06954177897575, 78.52000000000001, 'X[8] <= 0.5\\ngini = 0.388\\nsamples = 19\\nvalue = [5, 14]'),\n",
       " Text(245.45983827493262, 66.44, 'gini = 0.0\\nsamples = 7\\nvalue = [0, 7]'),\n",
       " Text(252.67924528301887, 66.44, 'X[1] <= 4036.5\\ngini = 0.486\\nsamples = 12\\nvalue = [5, 7]'),\n",
       " Text(249.06954177897575, 54.359999999999985, 'X[20] <= 0.5\\ngini = 0.42\\nsamples = 10\\nvalue = [3, 7]'),\n",
       " Text(245.45983827493262, 42.28, 'X[1] <= 2078.0\\ngini = 0.49\\nsamples = 7\\nvalue = [3, 4]'),\n",
       " Text(241.8501347708895, 30.19999999999999, 'gini = 0.0\\nsamples = 2\\nvalue = [0, 2]'),\n",
       " Text(249.06954177897575, 30.19999999999999, 'X[1] <= 2618.0\\ngini = 0.48\\nsamples = 5\\nvalue = [3, 2]'),\n",
       " Text(245.45983827493262, 18.120000000000005, 'gini = 0.0\\nsamples = 2\\nvalue = [2, 0]'),\n",
       " Text(252.67924528301887, 18.120000000000005, 'X[2] <= 249.0\\ngini = 0.444\\nsamples = 3\\nvalue = [1, 2]'),\n",
       " Text(249.06954177897575, 6.039999999999992, 'gini = 0.0\\nsamples = 2\\nvalue = [0, 2]'),\n",
       " Text(256.288948787062, 6.039999999999992, 'gini = 0.0\\nsamples = 1\\nvalue = [1, 0]'),\n",
       " Text(252.67924528301887, 42.28, 'gini = 0.0\\nsamples = 3\\nvalue = [0, 3]'),\n",
       " Text(256.288948787062, 54.359999999999985, 'gini = 0.0\\nsamples = 2\\nvalue = [2, 0]'),\n",
       " Text(245.45983827493262, 102.67999999999999, 'gini = 0.0\\nsamples = 3\\nvalue = [3, 0]'),\n",
       " Text(249.06954177897575, 114.75999999999999, 'gini = 0.0\\nsamples = 6\\nvalue = [0, 6]'),\n",
       " Text(249.06954177897575, 138.92000000000002, 'gini = 0.0\\nsamples = 3\\nvalue = [3, 0]'),\n",
       " Text(156.59909029649597, 175.16, 'gini = 0.0\\nsamples = 3\\nvalue = [3, 0]'),\n",
       " Text(309.08086253369277, 187.24, 'X[3] <= 78.0\\ngini = 0.211\\nsamples = 167\\nvalue = [20, 147]'),\n",
       " Text(305.47115902964964, 175.16, 'gini = 0.0\\nsamples = 2\\nvalue = [2, 0]'),\n",
       " Text(312.6905660377359, 175.16, 'X[1] <= 7425.5\\ngini = 0.194\\nsamples = 165\\nvalue = [18, 147]'),\n",
       " Text(297.80053908355796, 163.07999999999998, 'X[0] <= 4343.0\\ngini = 0.178\\nsamples = 162\\nvalue = [16, 146]'),\n",
       " Text(278.84959568733154, 151.0, 'X[6] <= 0.5\\ngini = 0.08\\nsamples = 96\\nvalue = [4, 92]'),\n",
       " Text(268.02048517520217, 138.92000000000002, 'X[2] <= 166.0\\ngini = 0.029\\nsamples = 69\\nvalue = [1, 68]'),\n",
       " Text(264.41078167115904, 126.84, 'gini = 0.0\\nsamples = 63\\nvalue = [0, 63]'),\n",
       " Text(271.6301886792453, 126.84, 'X[2] <= 171.0\\ngini = 0.278\\nsamples = 6\\nvalue = [1, 5]'),\n",
       " Text(268.02048517520217, 114.75999999999999, 'gini = 0.0\\nsamples = 1\\nvalue = [1, 0]'),\n",
       " Text(275.2398921832884, 114.75999999999999, 'gini = 0.0\\nsamples = 5\\nvalue = [0, 5]'),\n",
       " Text(289.6787061994609, 138.92000000000002, 'X[3] <= 420.0\\ngini = 0.198\\nsamples = 27\\nvalue = [3, 24]'),\n",
       " Text(286.0690026954178, 126.84, 'X[15] <= 0.5\\ngini = 0.142\\nsamples = 26\\nvalue = [2, 24]'),\n",
       " Text(282.45929919137467, 114.75999999999999, 'X[2] <= 124.5\\ngini = 0.077\\nsamples = 25\\nvalue = [1, 24]'),\n",
       " Text(278.84959568733154, 102.67999999999999, 'gini = 0.0\\nsamples = 21\\nvalue = [0, 21]'),\n",
       " Text(286.0690026954178, 102.67999999999999, 'X[1] <= 1104.5\\ngini = 0.375\\nsamples = 4\\nvalue = [1, 3]'),\n",
       " Text(282.45929919137467, 90.6, 'gini = 0.0\\nsamples = 1\\nvalue = [1, 0]'),\n",
       " Text(289.6787061994609, 90.6, 'gini = 0.0\\nsamples = 3\\nvalue = [0, 3]'),\n",
       " Text(289.6787061994609, 114.75999999999999, 'gini = 0.0\\nsamples = 1\\nvalue = [1, 0]'),\n",
       " Text(293.28840970350404, 126.84, 'gini = 0.0\\nsamples = 1\\nvalue = [1, 0]'),\n",
       " Text(316.7514824797844, 151.0, 'X[3] <= 420.0\\ngini = 0.298\\nsamples = 66\\nvalue = [12, 54]'),\n",
       " Text(313.14177897574126, 138.92000000000002, 'X[0] <= 4376.0\\ngini = 0.281\\nsamples = 65\\nvalue = [11, 54]'),\n",
       " Text(309.53207547169814, 126.84, 'gini = 0.0\\nsamples = 1\\nvalue = [1, 0]'),\n",
       " Text(316.7514824797844, 126.84, 'X[1] <= 2547.5\\ngini = 0.264\\nsamples = 64\\nvalue = [10, 54]'),\n",
       " Text(313.14177897574126, 114.75999999999999, 'X[1] <= 2085.0\\ngini = 0.315\\nsamples = 51\\nvalue = [10, 41]'),\n",
       " Text(304.1175202156334, 102.67999999999999, 'X[0] <= 26665.0\\ngini = 0.278\\nsamples = 48\\nvalue = [8, 40]'),\n",
       " Text(296.89811320754717, 90.6, 'X[2] <= 219.5\\ngini = 0.258\\nsamples = 46\\nvalue = [7, 39]'),\n",
       " Text(293.28840970350404, 78.52000000000001, 'X[2] <= 202.5\\ngini = 0.327\\nsamples = 34\\nvalue = [7, 27]'),\n",
       " Text(283.36172506738546, 66.44, 'X[11] <= 0.5\\ngini = 0.271\\nsamples = 31\\nvalue = [5, 26]'),\n",
       " Text(274.3374663072776, 54.359999999999985, 'X[0] <= 8167.0\\ngini = 0.198\\nsamples = 27\\nvalue = [3, 24]'),\n",
       " Text(267.1180592991914, 42.28, 'X[2] <= 82.5\\ngini = 0.091\\nsamples = 21\\nvalue = [1, 20]'),\n",
       " Text(263.50835579514825, 30.19999999999999, 'X[2] <= 77.0\\ngini = 0.444\\nsamples = 3\\nvalue = [1, 2]'),\n",
       " Text(259.8986522911051, 18.120000000000005, 'gini = 0.0\\nsamples = 2\\nvalue = [0, 2]'),\n",
       " Text(267.1180592991914, 18.120000000000005, 'gini = 0.0\\nsamples = 1\\nvalue = [1, 0]'),\n",
       " Text(270.7277628032345, 30.19999999999999, 'gini = 0.0\\nsamples = 18\\nvalue = [0, 18]'),\n",
       " Text(281.5568733153639, 42.28, 'X[14] <= 0.5\\ngini = 0.444\\nsamples = 6\\nvalue = [2, 4]'),\n",
       " Text(277.94716981132075, 30.19999999999999, 'gini = 0.0\\nsamples = 3\\nvalue = [0, 3]'),\n",
       " Text(285.166576819407, 30.19999999999999, 'X[2] <= 153.206\\ngini = 0.444\\nsamples = 3\\nvalue = [2, 1]'),\n",
       " Text(281.5568733153639, 18.120000000000005, 'gini = 0.0\\nsamples = 1\\nvalue = [0, 1]'),\n",
       " Text(288.7762803234501, 18.120000000000005, 'gini = 0.0\\nsamples = 2\\nvalue = [2, 0]'),\n",
       " Text(292.3859838274933, 54.359999999999985, 'X[2] <= 114.0\\ngini = 0.5\\nsamples = 4\\nvalue = [2, 2]'),\n",
       " Text(288.7762803234501, 42.28, 'gini = 0.0\\nsamples = 1\\nvalue = [0, 1]'),\n",
       " Text(295.99568733153643, 42.28, 'X[2] <= 168.5\\ngini = 0.444\\nsamples = 3\\nvalue = [2, 1]'),\n",
       " Text(292.3859838274933, 30.19999999999999, 'gini = 0.0\\nsamples = 2\\nvalue = [2, 0]'),\n",
       " Text(299.60539083557956, 30.19999999999999, 'gini = 0.0\\nsamples = 1\\nvalue = [0, 1]'),\n",
       " Text(303.2150943396227, 66.44, 'X[1] <= 847.5\\ngini = 0.444\\nsamples = 3\\nvalue = [2, 1]'),\n",
       " Text(299.60539083557956, 54.359999999999985, 'gini = 0.0\\nsamples = 2\\nvalue = [2, 0]'),\n",
       " Text(306.8247978436658, 54.359999999999985, 'gini = 0.0\\nsamples = 1\\nvalue = [0, 1]'),\n",
       " Text(300.5078167115903, 78.52000000000001, 'gini = 0.0\\nsamples = 12\\nvalue = [0, 12]'),\n",
       " Text(311.33692722371967, 90.6, 'X[7] <= 0.5\\ngini = 0.5\\nsamples = 2\\nvalue = [1, 1]'),\n",
       " Text(307.72722371967654, 78.52000000000001, 'gini = 0.0\\nsamples = 1\\nvalue = [0, 1]'),\n",
       " Text(314.9466307277628, 78.52000000000001, 'gini = 0.0\\nsamples = 1\\nvalue = [1, 0]'),\n",
       " Text(322.1660377358491, 102.67999999999999, 'X[0] <= 11333.5\\ngini = 0.444\\nsamples = 3\\nvalue = [2, 1]'),\n",
       " Text(318.556334231806, 90.6, 'gini = 0.0\\nsamples = 2\\nvalue = [2, 0]'),\n",
       " Text(325.7757412398922, 90.6, 'gini = 0.0\\nsamples = 1\\nvalue = [0, 1]'),\n",
       " Text(320.3611859838275, 114.75999999999999, 'gini = 0.0\\nsamples = 13\\nvalue = [0, 13]'),\n",
       " Text(320.3611859838275, 138.92000000000002, 'gini = 0.0\\nsamples = 1\\nvalue = [1, 0]'),\n",
       " Text(327.58059299191376, 163.07999999999998, 'X[0] <= 3250.0\\ngini = 0.444\\nsamples = 3\\nvalue = [2, 1]'),\n",
       " Text(323.97088948787064, 151.0, 'gini = 0.0\\nsamples = 1\\nvalue = [0, 1]'),\n",
       " Text(331.1902964959569, 151.0, 'gini = 0.0\\nsamples = 2\\nvalue = [2, 0]')]"
      ]
     },
     "execution_count": 189,
     "metadata": {},
     "output_type": "execute_result"
    },
    {
     "data": {
      "image/png": "[encoded data removed]",
      "text/plain": [
       "<Figure size 432x288 with 1 Axes>"
      ]
     },
     "metadata": {
      "needs_background": "light"
     },
     "output_type": "display_data"
    }
   ],
   "source": [
    "from sklearn import tree\n",
    "tree.plot_tree(DT.fit(x_train, y_train))"
   ]
  },
  {
   "cell_type": "code",
   "execution_count": 190,
   "metadata": {},
   "outputs": [],
   "source": [
    "# Predicting values form decision tree\n",
    "y_pred = DT.predict(x_test)"
   ]
  },
  {
   "cell_type": "code",
   "execution_count": 191,
   "metadata": {},
   "outputs": [
    {
     "name": "stdout",
     "output_type": "stream",
     "text": [
      "Accuracy: 69.91869918699187\n",
      "[[17 19]\n",
      " [18 69]]\n"
     ]
    }
   ],
   "source": [
    "# Model Accuracy and Confusion matrix\n",
    "print(\"Accuracy:\",metrics.accuracy_score(y_test, y_pred)*100)\n",
    "print(metrics.confusion_matrix(y_test, y_pred))"
   ]
  },
  {
   "cell_type": "code",
   "execution_count": 192,
   "metadata": {},
   "outputs": [
    {
     "name": "stdout",
     "output_type": "stream",
     "text": [
      "[[17 19]\n",
      " [18 69]]\n"
     ]
    }
   ],
   "source": [
    "confusion = metrics.confusion_matrix(y_test, y_pred)\n",
    "print(confusion)\n",
    "#[row, column]\n",
    "TP = confusion[1, 1]\n",
    "TN = confusion[0, 0]\n",
    "FP = confusion[0, 1]\n",
    "FN = confusion[1, 0]"
   ]
  },
  {
   "cell_type": "code",
   "execution_count": 193,
   "metadata": {},
   "outputs": [],
   "source": [
    "# Converting the categorical output into numerical output\n",
    "lst_test =[]\n",
    "for val in y_test:\n",
    "    x = 1 if(val == \"Y\") else 0\n",
    "    lst_test.append(x)\n",
    "    \n",
    "lst_pred =[]\n",
    "for val in y_pred:\n",
    "    x = 1 if(val == \"Y\") else 0\n",
    "    lst_pred.append(x)"
   ]
  },
  {
   "cell_type": "code",
   "execution_count": 194,
   "metadata": {},
   "outputs": [
    {
     "name": "stdout",
     "output_type": "stream",
     "text": [
      "0.6991869918699187\n",
      "0.6991869918699187\n"
     ]
    }
   ],
   "source": [
    "# Accuracy by calculation & built-in fuction\n",
    "print((TP + TN) / float(TP + TN + FP + FN))\n",
    "print(metrics.accuracy_score(lst_test, lst_pred))"
   ]
  },
  {
   "cell_type": "code",
   "execution_count": 195,
   "metadata": {},
   "outputs": [
    {
     "name": "stdout",
     "output_type": "stream",
     "text": [
      "30.081300813008134\n",
      "30.081300813008127\n"
     ]
    }
   ],
   "source": [
    "classification_error = (FP + FN) / float(TP + TN + FP + FN) #Error\n",
    "print(classification_error*100)\n",
    "print((1 - metrics.accuracy_score(lst_test, lst_pred))*100)"
   ]
  },
  {
   "cell_type": "code",
   "execution_count": 196,
   "metadata": {},
   "outputs": [
    {
     "name": "stdout",
     "output_type": "stream",
     "text": [
      "0.7931034482758621\n",
      "0.7931034482758621\n"
     ]
    }
   ],
   "source": [
    "sensitivity = TP / float(FN + TP)\n",
    "print(sensitivity)\n",
    "print(metrics.recall_score(lst_test, lst_pred))"
   ]
  },
  {
   "cell_type": "code",
   "execution_count": 197,
   "metadata": {},
   "outputs": [
    {
     "name": "stdout",
     "output_type": "stream",
     "text": [
      "0.4722222222222222\n"
     ]
    }
   ],
   "source": [
    "specificity = TN / (TN + FP)\n",
    "print(specificity)"
   ]
  },
  {
   "cell_type": "code",
   "execution_count": 198,
   "metadata": {},
   "outputs": [
    {
     "name": "stdout",
     "output_type": "stream",
     "text": [
      "0.5277777777777778\n",
      "0.5277777777777778\n"
     ]
    }
   ],
   "source": [
    "false_positive_rate = FP / float(TN + FP)\n",
    "print(false_positive_rate)\n",
    "print(1 - specificity)"
   ]
  },
  {
   "cell_type": "code",
   "execution_count": 199,
   "metadata": {},
   "outputs": [
    {
     "name": "stdout",
     "output_type": "stream",
     "text": [
      "0.7840909090909091\n",
      "0.7840909090909091\n"
     ]
    }
   ],
   "source": [
    "precision = TP / float(TP + FP)\n",
    "print(precision)\n",
    "print(metrics.precision_score(lst_test, lst_pred))"
   ]
  },
  {
   "cell_type": "code",
   "execution_count": 200,
   "metadata": {},
   "outputs": [
    {
     "name": "stdout",
     "output_type": "stream",
     "text": [
      "0.7885714285714285\n"
     ]
    }
   ],
   "source": [
    "# F1 Score FORMULA\n",
    "F1 = 2 * (precision * sensitivity) / (precision + sensitivity)\n",
    "print(F1)"
   ]
  },
  {
   "cell_type": "code",
   "execution_count": 201,
   "metadata": {},
   "outputs": [
    {
     "data": {
      "image/png": "[encoded data removed]",
      "text/plain": [
       "<Figure size 432x288 with 1 Axes>"
      ]
     },
     "metadata": {
      "needs_background": "light"
     },
     "output_type": "display_data"
    }
   ],
   "source": [
    "fpr, tpr, thresholds = metrics.roc_curve(lst_test, lst_pred)\n",
    "plt.plot(fpr, tpr)\n",
    "plt.xlim([0.0, 1.0])\n",
    "plt.ylim([0.0, 1.0])\n",
    "plt.rcParams['font.size'] = 12\n",
    "plt.title('ROC curve for Credit risk classifier')\n",
    "plt.xlabel('False Positive Rate (1 - Specificity)')\n",
    "plt.ylabel('True Positive Rate (Sensitivity)')\n",
    "plt.grid(True)"
   ]
  },
  {
   "cell_type": "code",
   "execution_count": 202,
   "metadata": {},
   "outputs": [
    {
     "name": "stdout",
     "output_type": "stream",
     "text": [
      "0.6326628352490422\n"
     ]
    }
   ],
   "source": [
    "print(metrics.roc_auc_score(lst_test, lst_pred))"
   ]
  },
  {
   "cell_type": "code",
   "execution_count": 203,
   "metadata": {},
   "outputs": [
    {
     "data": {
      "text/plain": [
       "0.6553687611408201"
      ]
     },
     "execution_count": 203,
     "metadata": {},
     "output_type": "execute_result"
    }
   ],
   "source": [
    "from sklearn.model_selection import cross_val_score\n",
    "cross_val_score(DT, x_train, y_train, cv=10, scoring='roc_auc').mean()"
   ]
  },
  {
   "cell_type": "code",
   "execution_count": 204,
   "metadata": {},
   "outputs": [],
   "source": [
    "DT_accuracy= metrics.accuracy_score(lst_test, lst_pred)\n",
    "DT_recall= metrics.recall_score(lst_test, lst_pred)\n",
    "DT_precision= metrics.precision_score(lst_test, lst_pred)\n",
    "DT_roc_auc= metrics.roc_auc_score(lst_test, lst_pred)"
   ]
  },
  {
   "cell_type": "markdown",
   "metadata": {},
   "source": [
    "### 3.Random Forest"
   ]
  },
  {
   "cell_type": "code",
   "execution_count": 205,
   "metadata": {},
   "outputs": [],
   "source": [
    "# Fitting Random Forest classifier to the dataset\n",
    "# import the classifier\n",
    "from sklearn.ensemble import RandomForestClassifier\n",
    "# create classifier object\n",
    "RF = RandomForestClassifier(n_estimators = 100, random_state = 0)"
   ]
  },
  {
   "cell_type": "code",
   "execution_count": 206,
   "metadata": {},
   "outputs": [
    {
     "data": {
      "text/plain": [
       "RandomForestClassifier(random_state=0)"
      ]
     },
     "execution_count": 206,
     "metadata": {},
     "output_type": "execute_result"
    }
   ],
   "source": [
    "RF.fit(x_train, y_train)"
   ]
  },
  {
   "cell_type": "code",
   "execution_count": 208,
   "metadata": {},
   "outputs": [],
   "source": [
    "# making predictions on the testing set\n",
    "y_pred = RF.predict(x_test)"
   ]
  },
  {
   "cell_type": "code",
   "execution_count": 209,
   "metadata": {},
   "outputs": [
    {
     "name": "stdout",
     "output_type": "stream",
     "text": [
      "Accuracy: 77.23577235772358\n",
      "[[14 22]\n",
      " [ 6 81]]\n"
     ]
    }
   ],
   "source": [
    "# Model Accuracy and Confusion matrix\n",
    "print(\"Accuracy:\",metrics.accuracy_score(y_test, y_pred)*100)\n",
    "print(metrics.confusion_matrix(y_test, y_pred))"
   ]
  },
  {
   "cell_type": "code",
   "execution_count": 210,
   "metadata": {},
   "outputs": [
    {
     "name": "stdout",
     "output_type": "stream",
     "text": [
      "[[14 22]\n",
      " [ 6 81]]\n"
     ]
    }
   ],
   "source": [
    "confusion = metrics.confusion_matrix(y_test, y_pred)\n",
    "print(confusion)\n",
    "#[row, column]\n",
    "TP = confusion[1, 1]\n",
    "TN = confusion[0, 0]\n",
    "FP = confusion[0, 1]\n",
    "FN = confusion[1, 0]"
   ]
  },
  {
   "cell_type": "code",
   "execution_count": 211,
   "metadata": {},
   "outputs": [],
   "source": [
    "# Converting the categorical output into numerical output\n",
    "lst_test =[]\n",
    "for val in y_test:\n",
    "    x = 1 if(val == \"Y\") else 0\n",
    "    lst_test.append(x)\n",
    "    \n",
    "lst_pred =[]\n",
    "for val in y_pred:\n",
    "    x = 1 if(val == \"Y\") else 0\n",
    "    lst_pred.append(x)"
   ]
  },
  {
   "cell_type": "code",
   "execution_count": 212,
   "metadata": {},
   "outputs": [
    {
     "name": "stdout",
     "output_type": "stream",
     "text": [
      "0.7723577235772358\n",
      "0.7723577235772358\n"
     ]
    }
   ],
   "source": [
    "# Accuracy by calculation & built-in fuction\n",
    "print((TP + TN) / float(TP + TN + FP + FN))\n",
    "print(metrics.accuracy_score(lst_test, lst_pred))"
   ]
  },
  {
   "cell_type": "code",
   "execution_count": 213,
   "metadata": {},
   "outputs": [
    {
     "name": "stdout",
     "output_type": "stream",
     "text": [
      "22.76422764227642\n",
      "22.764227642276424\n"
     ]
    }
   ],
   "source": [
    "classification_error = (FP + FN) / float(TP + TN + FP + FN) #Error\n",
    "print(classification_error*100)\n",
    "print((1 - metrics.accuracy_score(lst_test, lst_pred))*100)"
   ]
  },
  {
   "cell_type": "code",
   "execution_count": 214,
   "metadata": {},
   "outputs": [
    {
     "name": "stdout",
     "output_type": "stream",
     "text": [
      "0.9310344827586207\n",
      "0.9310344827586207\n"
     ]
    }
   ],
   "source": [
    "sensitivity = TP / float(FN + TP)\n",
    "print(sensitivity)\n",
    "print(metrics.recall_score(lst_test, lst_pred))"
   ]
  },
  {
   "cell_type": "code",
   "execution_count": 215,
   "metadata": {},
   "outputs": [
    {
     "name": "stdout",
     "output_type": "stream",
     "text": [
      "0.3888888888888889\n"
     ]
    }
   ],
   "source": [
    "specificity = TN / (TN + FP)\n",
    "print(specificity)"
   ]
  },
  {
   "cell_type": "code",
   "execution_count": 216,
   "metadata": {},
   "outputs": [
    {
     "name": "stdout",
     "output_type": "stream",
     "text": [
      "0.6111111111111112\n",
      "0.6111111111111112\n"
     ]
    }
   ],
   "source": [
    "false_positive_rate = FP / float(TN + FP)\n",
    "print(false_positive_rate)\n",
    "print(1 - specificity)"
   ]
  },
  {
   "cell_type": "code",
   "execution_count": 217,
   "metadata": {},
   "outputs": [
    {
     "name": "stdout",
     "output_type": "stream",
     "text": [
      "0.7864077669902912\n",
      "0.7864077669902912\n"
     ]
    }
   ],
   "source": [
    "precision = TP / float(TP + FP)\n",
    "print(precision)\n",
    "print(metrics.precision_score(lst_test, lst_pred))"
   ]
  },
  {
   "cell_type": "code",
   "execution_count": 218,
   "metadata": {},
   "outputs": [
    {
     "name": "stdout",
     "output_type": "stream",
     "text": [
      "0.8526315789473684\n"
     ]
    }
   ],
   "source": [
    "# F1 Score FORMULA\n",
    "F1 = 2 * (precision * sensitivity) / (precision + sensitivity)\n",
    "print(F1)"
   ]
  },
  {
   "cell_type": "code",
   "execution_count": 219,
   "metadata": {},
   "outputs": [
    {
     "data": {
      "image/png": "[encoded data removed]",
      "text/plain": [
       "<Figure size 432x288 with 1 Axes>"
      ]
     },
     "metadata": {
      "needs_background": "light"
     },
     "output_type": "display_data"
    }
   ],
   "source": [
    "fpr, tpr, thresholds = metrics.roc_curve(lst_test, lst_pred)\n",
    "plt.plot(fpr, tpr)\n",
    "plt.xlim([0.0, 1.0])\n",
    "plt.ylim([0.0, 1.0])\n",
    "plt.rcParams['font.size'] = 12\n",
    "plt.title('ROC curve for Credit risk classifier')\n",
    "plt.xlabel('False Positive Rate (1 - Specificity)')\n",
    "plt.ylabel('True Positive Rate (Sensitivity)')\n",
    "plt.grid(True)"
   ]
  },
  {
   "cell_type": "code",
   "execution_count": 220,
   "metadata": {},
   "outputs": [
    {
     "name": "stdout",
     "output_type": "stream",
     "text": [
      "0.6599616858237547\n"
     ]
    }
   ],
   "source": [
    "print(metrics.roc_auc_score(lst_test, lst_pred))"
   ]
  },
  {
   "cell_type": "code",
   "execution_count": 221,
   "metadata": {},
   "outputs": [],
   "source": [
    "RF_accuracy= metrics.accuracy_score(lst_test, lst_pred)\n",
    "RF_recall= metrics.recall_score(lst_test, lst_pred)\n",
    "RF_precision= metrics.precision_score(lst_test, lst_pred)\n",
    "RF_roc_auc= metrics.roc_auc_score(lst_test, lst_pred)"
   ]
  },
  {
   "cell_type": "markdown",
   "metadata": {},
   "source": [
    "## Comparing all models performance"
   ]
  },
  {
   "cell_type": "code",
   "execution_count": 222,
   "metadata": {},
   "outputs": [
    {
     "name": "stdout",
     "output_type": "stream",
     "text": [
      "                     Accuracy    Recall  Precision   Roc_auc\n",
      "Logistic_regression  0.788618  0.954023   0.790476  0.671456\n",
      "Decision_tree        0.699187  0.793103   0.784091  0.632663\n",
      "Random_forest        0.772358  0.931034   0.786408  0.659962\n"
     ]
    }
   ],
   "source": [
    "Results = { 'Accuracy' : [log_accuracy,DT_accuracy,RF_accuracy],\n",
    "            'Recall' : [log_recall,DT_recall,RF_recall],\n",
    "            'Precision' : [log_precision,DT_precision,RF_precision],\n",
    "            'Roc_auc' : [log_roc_auc,DT_roc_auc,RF_roc_auc]\n",
    "          }\n",
    "\n",
    "Result_matrix = pd.DataFrame(Results, columns = ['Accuracy','Recall','Precision','Roc_auc'], index=['Logistic_regression','Decision_tree','Random_forest'])\n",
    "print(Result_matrix)"
   ]
  },
  {
   "cell_type": "markdown",
   "metadata": {},
   "source": [
    "## Conclusion\n",
    "- after comparing all three models result we can see logistic regression is giving best performance results"
   ]
  }
 ],
 "metadata": {
  "kernelspec": {
   "display_name": "Python 3",
   "language": "python",
   "name": "python3"
  },
  "language_info": {
   "codemirror_mode": {
    "name": "ipython",
    "version": 3
   },
   "file_extension": ".py",
   "mimetype": "text/x-python",
   "name": "python",
   "nbconvert_exporter": "python",
   "pygments_lexer": "ipython3",
   "version": "3.7.4"
  }
 },
 "nbformat": 4,
 "nbformat_minor": 2
}
